{
  "cells": [
    {
      "metadata": {
        "_uuid": "a8f9622945156d6337ba73c481da2de7efef7384"
      },
      "cell_type": "markdown",
      "source": "## <div style=\"text-align: center\">Welcome to EDA Workflow </div>\n\n<div style=\"text-align: center\">If you've followed my other kernels so far. You have noticed that for those who are <b>beginners</b>, I've introduced a course \"<b> <a href='https://www.kaggle.com/mjbahmani/10-steps-to-become-a-data-scientist' >10 Steps to Become a Data Scientist</a> </b>\". In this kernel we will start another step with each other. There are plenty of <b>Kernels</b> that can help you learn <b>EDA</b> from scratch but here in <b>Kaggle</b>, I want to Analysis <font color=\"green\"><b>Meta Kaggle</b></font> and <font color=\"green\"><b>Quora Insincere Question</b></font>,   popular  Datasets as a comprehensive pipeline for <b>EDA</b>. \nAfter reading, you can use it  to Analysis other real dataset and use it as a template to deal with <b>EDA</b> problems.</div>\n<img src='http://s9.picofile.com/file/8343417468/eda11.png' height=400 width=400>\n<div style=\"text-align:center\">last update: <b>11/26/2018</b></div>\n\n\n\n>###### You may  be interested have a look at it: [**10-Steps-to-Become-a-Data-Scientist**](https://github.com/mjbahmani/10-steps-to-become-a-data-scientist)\n\n\n---------------------------------------------------------------------\nYou can Fork and Run this kernel on Github:\n> ###### [ GitHub](https://github.com/mjbahmani/10-steps-to-become-a-data-scientist)\n\n-------------------------------------------------------------------------------------------------------------\n **I hope you find this kernel helpful and some <font color=\"red\"><b>UPVOTES</b></font> would be very much appreciated**\n \n -----------"
    },
    {
      "metadata": {
        "_uuid": "cda11210a88d6484112cbe2c3624225328326c6a"
      },
      "cell_type": "markdown",
      "source": " <a id=\"top\"></a> <br>\n## Notebook  Content\n1. [Introduction](#1)\n1. [Loading Packages](#2)\n    1. [version](#3)\n    1. [Setup](#4)\n1. [Exploratory data analysis](#5)\n1. [Data Collection](#6)\n    1. [Features](#7)\n    1. [Explorer Dataset](#8)\n1. [Data Cleaning](#9)\n    1. [Find yourself in Users datset](#10)\n    1. [Find your kernels in Kernels dataset](#11)\n1. [Data Preprocessing](#12)\n1. [Data Visaulization](#13)\n    1. [Scatter plot](#14)\n    1. [Box plot](#15)\n    1. [Histogram](#16)\n    1. [violinplots](#17)\n    1. [kdeplot](#18)\n    1. [jointplot](#19)\n    1. [andrews_curves](#20)\n    1. [Heatmap](#21)\n    1. [WordCloud](#22)\n    1. [CountPlot](#23)\n    1. [Pie Plot](#24)\n    1. [CountPlot](#25)\n    \n1. [Conclusion](#23)    \n1. [References](#24)    \n    "
    },
    {
      "metadata": {
        "_uuid": "750903cc2679d39058f56df6c6c040be02b748df"
      },
      "cell_type": "markdown",
      "source": " <a id=\"1\"></a> <br>\n## 1- Introduction\nThis is a **comprehensive EDA techniques with python** , that I have spent a lot of time to complete it.\n\nIt is clear that everyone in this community is familiar with Meta Kaggle and kaggle survey 2018 datasets but if you need to review your information about the datasets please visit  [meta-kaggle](https://www.kaggle.com/kaggle/meta-kaggle) and [Quora](https://www.kaggle.com/c/quora-insincere-questions-classification).\n\n\n\nI am open to getting your feedback for improving this **kernel** together.\n"
    },
    {
      "metadata": {
        "_uuid": "fbedcae8843986c2139f18dad4b5f313e6535ac5"
      },
      "cell_type": "markdown",
      "source": "<a id=\"2\"></a> <br>\n## 2- Loading Packages\nIn this kernel we are using the following packages:"
    },
    {
      "metadata": {
        "_uuid": "61f49281fdd8592b44c0867225f57e6fce36342c"
      },
      "cell_type": "markdown",
      "source": " <img src=\"http://s8.picofile.com/file/8338227868/packages.png\">\n Now we import all of them "
    },
    {
      "metadata": {
        "_cell_guid": "b1076dfc-b9ad-4769-8c92-a6c4dae69d19",
        "_kg_hide-input": true,
        "_uuid": "8f2839f25d086af736a60e9eeb907d3b93b6e0e5",
        "trusted": true
      },
      "cell_type": "code",
      "source": "from matplotlib.backends.backend_agg import FigureCanvasAgg\nfrom sklearn.model_selection import train_test_split\nfrom sklearn.metrics import classification_report\nfrom sklearn.metrics import confusion_matrix\nfrom sklearn.metrics import accuracy_score\nfrom wordcloud import WordCloud as wc\nfrom matplotlib.figure import Figure\nfrom nltk.corpus import stopwords\nimport matplotlib.pylab as pylab\nimport matplotlib.pyplot as plt\nfrom pandas import get_dummies\nimport matplotlib as mpl\nimport seaborn as sns\nimport pandas as pd\nimport numpy as np\nimport matplotlib\nimport warnings\nimport sklearn\nimport string\nimport scipy\nimport numpy\nimport nltk\nimport json\nimport sys\nimport csv\nimport os",
      "execution_count": null,
      "outputs": []
    },
    {
      "metadata": {
        "_uuid": "cb6fbd6b1eee108ca34577de77592af65b781cc0"
      },
      "cell_type": "markdown",
      "source": "<a id=\"3\"></a> <br>\n## 2-1 version"
    },
    {
      "metadata": {
        "_kg_hide-input": true,
        "_uuid": "7d081df6329f26958f545c32b4d96172b3be96d9",
        "trusted": true
      },
      "cell_type": "code",
      "source": "print('matplotlib: {}'.format(matplotlib.__version__))\nprint('sklearn: {}'.format(sklearn.__version__))\nprint('scipy: {}'.format(scipy.__version__))\nprint('seaborn: {}'.format(sns.__version__))\nprint('pandas: {}'.format(pd.__version__))\nprint('numpy: {}'.format(np.__version__))\nprint('Python: {}'.format(sys.version))\n#print('wordcloud: {}'.format(wordcloud.version))",
      "execution_count": null,
      "outputs": []
    },
    {
      "metadata": {
        "_uuid": "4634f86ca193d38c1121af4d30f31acf25d9d334"
      },
      "cell_type": "markdown",
      "source": "<a id=\"4\"></a> <br>\n## 2-2 Setup\n\nA few tiny adjustments for better **code readability**"
    },
    {
      "metadata": {
        "_kg_hide-input": true,
        "_uuid": "13ccd69be8e3a0502a3e172d1416686ce8cdba56",
        "trusted": true
      },
      "cell_type": "code",
      "source": "sns.set(style='white', context='notebook', palette='deep')\npylab.rcParams['figure.figsize'] = 12,8\nwarnings.filterwarnings('ignore')\nmpl.style.use('ggplot')\nsns.set_style('white')\n%matplotlib inline",
      "execution_count": null,
      "outputs": []
    },
    {
      "metadata": {
        "_uuid": "04ff1a533119d589baee777c21194a951168b0c7"
      },
      "cell_type": "markdown",
      "source": "<a id=\"5\"></a> <br>\n## 3- Exploratory Data Analysis(EDA)\n In this section, you'll learn how to use graphical and numerical techniques to begin uncovering the structure of your data. \n \n1. Which variables suggest interesting relationships?\n1. Which observations are unusual?\n\nBy the end of the section, you'll be able to answer these questions and more, while generating graphics that are both insightful and beautiful.  then We will review analytical and statistical operations:\n\n1. Data Collection\n1. Visualization\n1. Data Cleaning\n1. Data Preprocessing\n\n<img src=\"http://s9.picofile.com/file/8338476134/EDA.png\">\n\n###### [Go to top](#top)"
    },
    {
      "metadata": {
        "_uuid": "cedecea930b278f86292367cc28d2996a235a169"
      },
      "cell_type": "markdown",
      "source": "<a id=\"6\"></a> <br>\n## 3-1 Data Collection\n**Data collection** is the process of gathering and measuring data, information or any variables of interest in a standardized and established manner that enables the collector to answer or test hypothesis and evaluate outcomes of the particular collection.[techopedia]\n<img src='https://www.iaeemwc.com/assets/images/Blog/data-collection.jpg' height=300 width=300>\n\nI start Collection Data by the Users and Kernels datasets into **Pandas DataFrames**"
    },
    {
      "metadata": {
        "_kg_hide-input": true,
        "_uuid": "9269ae851b744856bce56840637030a16a5877e1",
        "trusted": true
      },
      "cell_type": "code",
      "source": "# import kernels and users to play with it\n#command--> 1\nusers = pd.read_csv(\"../input/meta-kaggle/Users.csv\")\nkernels = pd.read_csv(\"../input/meta-kaggle/Kernels.csv\")\nmessages = pd.read_csv(\"../input/meta-kaggle/ForumMessages.csv\")\nfreeFormResponses=pd.read_csv(\"../input/kaggle-survey-2018/freeFormResponses.csv\")\nmultipleChoiceResponses=pd.read_csv(\"../input/kaggle-survey-2018/multipleChoiceResponses.csv\")\ntrain = pd.read_csv(\"../input/quora-insincere-questions-classification/train.csv\")\ntest = pd.read_csv(\"../input/quora-insincere-questions-classification/test.csv\")",
      "execution_count": null,
      "outputs": []
    },
    {
      "metadata": {
        "_uuid": "b5f73efe9f8f0775099546e38bf74080a2af152a"
      },
      "cell_type": "markdown",
      "source": "6 Data Collection Rules for Your Future Perfect Machine Learning Dataset:\n1. Ensure the data has no gaps\n1. Keep your raw data raw\n1. Foresee and document all the possible missing values and outliers in your data\n1. Changelogs and data structures versioning \n1. Ensure the data points can’t get lost\n1. Hire a data officer. \n\n[reference](https://towardsdatascience.com/how-to-collect-your-deep-learning-dataset-2e0eefc0ba24)"
    },
    {
      "metadata": {
        "_uuid": "58ed9c838069f54de5cf90b20a774c3e236149b3"
      },
      "cell_type": "markdown",
      "source": "\n**<< Note 1 >>**\n\n* Each row is an observation (also known as : sample, example, instance, record)\n* Each column is a feature (also known as: Predictor, attribute, Independent Variable, input, regressor, Covariate)\n###### [Go to top](#top)"
    },
    {
      "metadata": {
        "_kg_hide-input": true,
        "_uuid": "33344731ac8933d46461ca893ea8936f6ee1c3e4",
        "trusted": true
      },
      "cell_type": "code",
      "source": "#command--> 2\nusers.sample(1) ",
      "execution_count": null,
      "outputs": []
    },
    {
      "metadata": {
        "_kg_hide-input": true,
        "_uuid": "6a15630f403601203c74bba16f343ae61d9937fb",
        "trusted": true
      },
      "cell_type": "code",
      "source": "kernels.sample(1) ",
      "execution_count": null,
      "outputs": []
    },
    {
      "metadata": {
        "_kg_hide-input": true,
        "_uuid": "dcb47a70a03a7e73bab46f31dd3096a09be7b560",
        "trusted": true
      },
      "cell_type": "code",
      "source": "train.sample(1)",
      "execution_count": null,
      "outputs": []
    },
    {
      "metadata": {
        "_uuid": "7b5fd1034cd591ebd29fba1c77d342ec2b408d13"
      },
      "cell_type": "markdown",
      "source": "### Please **replace** your username and find your userid\n\nWe suppose that userid==authoruserid and use userid for both kernels and users dataset"
    },
    {
      "metadata": {
        "_kg_hide-input": true,
        "_uuid": "edd043f8feb76cfe51b79785302ca4936ceb7b51",
        "trusted": true
      },
      "cell_type": "code",
      "source": "username=\"mjbahmani\"\nuserid=int(users[users['UserName']==\"mjbahmani\"].Id)\nuserid",
      "execution_count": null,
      "outputs": []
    },
    {
      "metadata": {
        "_uuid": "7cc8cac399d9d348842ea0b589581f5f909c17dd"
      },
      "cell_type": "markdown",
      "source": "But if we had , we can just use **dropna()**(be careful sometimes you should not do this!)"
    },
    {
      "metadata": {
        "_kg_hide-input": true,
        "_uuid": "7972fa0a7d1950d8a59f9820c6cacc00eb8f1015",
        "trusted": true
      },
      "cell_type": "code",
      "source": "# remove rows that have NA's\nprint('Before Droping',train.shape)\n#command--> 3\ntrain = train.dropna()\nprint('After Droping',train.shape)",
      "execution_count": null,
      "outputs": []
    },
    {
      "metadata": {
        "_uuid": "b1a61ef77cbe97153445293fc8d01f409d87272f"
      },
      "cell_type": "markdown",
      "source": "<a id=\"7\"></a> <br>\n## 3-1-1 Features\nFeatures can be from following types:\n1. numeric\n1. categorical\n1. ordinal\n1. datetime\n1. coordinates\n\nFind the type of features in **Meta Kaggle**?!\n<br>\nFor getting some information about the dataset you can use **info()** command\n###### [Go to top](#top)"
    },
    {
      "metadata": {
        "_kg_hide-input": true,
        "_uuid": "de95bf94a02721364ad6cbd6d440d664b2961e39",
        "trusted": true
      },
      "cell_type": "code",
      "source": "#command--> 4\nprint(users.info())",
      "execution_count": null,
      "outputs": []
    },
    {
      "metadata": {
        "_kg_hide-input": true,
        "_uuid": "8f47ccc4538b823bf0a5ac15eef7787395620ed5",
        "trusted": true
      },
      "cell_type": "code",
      "source": "print(freeFormResponses.info())",
      "execution_count": null,
      "outputs": []
    },
    {
      "metadata": {
        "_kg_hide-input": true,
        "_uuid": "7b650ee1c8aaa1d7c7e1c15dd102169e0fd0db60",
        "trusted": true
      },
      "cell_type": "code",
      "source": "print(train.info())",
      "execution_count": null,
      "outputs": []
    },
    {
      "metadata": {
        "_uuid": "e08d410c0dac5cf34eea33940ab586eb7e9ded5a"
      },
      "cell_type": "markdown",
      "source": "<a id=\"8\"></a> <br>\n## 3-1-2 Explorer Dataset\n1. Dimensions of the dataset.\n\n1. Peek at the data itself.\n\n1. Statistical summary of all attributes.\n\n1. Breakdown of the data by the class variable.\n\nDon’t worry, each look at the data is **one command**. These are useful commands that you can use again and again on future projects.\n###### [Go to top](#top)"
    },
    {
      "metadata": {
        "_kg_hide-input": true,
        "_uuid": "4b45251be7be77333051fe738639104ae1005fa5",
        "trusted": true
      },
      "cell_type": "code",
      "source": "# shape\n#command--> 5\nprint(users.shape)",
      "execution_count": null,
      "outputs": []
    },
    {
      "metadata": {
        "_kg_hide-input": true,
        "_uuid": "4b45251be7be77333051fe738639104ae1005fa5",
        "trusted": true
      },
      "cell_type": "code",
      "source": "# shape\nprint(kernels.shape)",
      "execution_count": null,
      "outputs": []
    },
    {
      "metadata": {
        "_kg_hide-input": true,
        "_uuid": "5e6358361a6a8fcc60087baa6cebb18c18296299",
        "trusted": true
      },
      "cell_type": "code",
      "source": "print(freeFormResponses.shape)",
      "execution_count": null,
      "outputs": []
    },
    {
      "metadata": {
        "_kg_hide-input": true,
        "_uuid": "8b724ebb9a0a1176e52543938bc67591b54d3e8d",
        "trusted": true
      },
      "cell_type": "code",
      "source": "print(train.shape)",
      "execution_count": null,
      "outputs": []
    },
    {
      "metadata": {
        "_kg_hide-input": true,
        "_uuid": "c64e9d3e0bf394fb833de94a0fc5c34f69fce24c",
        "trusted": true
      },
      "cell_type": "code",
      "source": "#columns*rows\n#command--> 6\nusers.size",
      "execution_count": null,
      "outputs": []
    },
    {
      "metadata": {
        "_kg_hide-input": true,
        "_uuid": "c64e9d3e0bf394fb833de94a0fc5c34f69fce24c",
        "trusted": true
      },
      "cell_type": "code",
      "source": "#columns*rows\nkernels.size",
      "execution_count": null,
      "outputs": []
    },
    {
      "metadata": {
        "_uuid": "277e1998627d6a3ddeff4e913a6b8c3dc81dec96"
      },
      "cell_type": "markdown",
      "source": "\nWe can get a quick idea of how many instances (rows) and how many attributes (columns) the data contains with the shape property."
    },
    {
      "metadata": {
        "_uuid": "3458838205be4c7fbff88e95ef69934e13e2199b"
      },
      "cell_type": "markdown",
      "source": "You see number of unique item for Species with command below:"
    },
    {
      "metadata": {
        "_kg_hide-input": true,
        "_uuid": "4b90d165a007106ae99809ad28edd75bd8153dd8",
        "trusted": true
      },
      "cell_type": "code",
      "source": "#command--> 7\nkernels['Medal'].unique()",
      "execution_count": null,
      "outputs": []
    },
    {
      "metadata": {
        "_kg_hide-input": true,
        "_uuid": "8accfbddf2228274ad412c3ad3be72b4107d6f6c",
        "trusted": true
      },
      "cell_type": "code",
      "source": "#command--> 8\nkernels[\"Medal\"].value_counts()\n",
      "execution_count": null,
      "outputs": []
    },
    {
      "metadata": {
        "_kg_hide-input": true,
        "_uuid": "eb1a194f9b7598401c44d2b762ecd75f1e2c3955",
        "trusted": true
      },
      "cell_type": "code",
      "source": "train[\"question_text\"].head(5)",
      "execution_count": null,
      "outputs": []
    },
    {
      "metadata": {
        "_uuid": "ae08b544a8d4202c7d0a47ec83d685e81c91a66d"
      },
      "cell_type": "markdown",
      "source": "To check the first 5 rows of the data set, we can use head(5)."
    },
    {
      "metadata": {
        "_kg_hide-input": true,
        "_uuid": "5899889553c3416b27e93efceddb106eb71f5156",
        "trusted": true
      },
      "cell_type": "code",
      "source": "kernels.head(5) ",
      "execution_count": null,
      "outputs": []
    },
    {
      "metadata": {
        "_uuid": "1150b6ac3d82562aefd5c64f9f01accee5eace4d"
      },
      "cell_type": "markdown",
      "source": "To check out last 5 row of the data set, we use tail() function"
    },
    {
      "metadata": {
        "_kg_hide-input": true,
        "_uuid": "79339442ff1f53ae1054d794337b9541295d3305",
        "trusted": true
      },
      "cell_type": "code",
      "source": "#command--> 9\nusers.tail() ",
      "execution_count": null,
      "outputs": []
    },
    {
      "metadata": {
        "_uuid": "2c288c3dc8656a872a8529368812546e434d3a22"
      },
      "cell_type": "markdown",
      "source": "To pop up 5 random rows from the data set, we can use **sample(5)**  function"
    },
    {
      "metadata": {
        "_kg_hide-input": true,
        "_uuid": "09eb18d1fcf4a2b73ba2f5ddce99dfa521681140",
        "trusted": true
      },
      "cell_type": "code",
      "source": "kernels.sample(5) ",
      "execution_count": null,
      "outputs": []
    },
    {
      "metadata": {
        "_uuid": "c8a1cc36348c68fb98d6cb28aa9919fc5f2892f3"
      },
      "cell_type": "markdown",
      "source": "To give a statistical summary about the dataset, we can use **describe()"
    },
    {
      "metadata": {
        "_kg_hide-input": true,
        "_uuid": "3f7211e96627b9a81c5b620a9ba61446f7719ea3",
        "trusted": true
      },
      "cell_type": "code",
      "source": "kernels.describe() ",
      "execution_count": null,
      "outputs": []
    },
    {
      "metadata": {
        "_uuid": "2ecc1896c6cd6c342cddb2e1ef0e774e66c8dc5d"
      },
      "cell_type": "markdown",
      "source": "<a id=\"9\"></a> <br>\n## 3-2 Data Cleaning\nWhen dealing with real-world data, dirty data is the norm rather than the exception. We continuously need to predict correct values, impute missing ones, and find links between various data artefacts such as schemas and records. We need to stop treating data cleaning as a piecemeal exercise (resolving different types of errors in isolation), and instead leverage all signals and resources (such as constraints, available statistics, and dictionaries) to accurately predict corrective actions.\n\n<img src='http://www.datacleansing.net.au/Images/Site/DG_Data_Cleansing_Cycle_300px.png' width=300 height=300>\n\nThe primary goal of data cleaning is to detect and remove errors and **anomalies** to increase the value of data in analytics and decision making. While it has been the focus of many researchers for several years, individual problems have been addressed separately. These include missing value imputation, outliers detection, transformations, integrity constraints violations detection and repair, consistent query answering, deduplication, and many other related problems such as profiling and constraints mining.[4]\n###### [Go to top](#top)"
    },
    {
      "metadata": {
        "_uuid": "031d16ca235837e889734635ecff193be64b27a4"
      },
      "cell_type": "markdown",
      "source": "How many NA elements in every column!!\nGood news, it is Zero!\nto check out how many null info are on the dataset, we can use **isnull().sum()**."
    },
    {
      "metadata": {
        "_uuid": "a6315bf510cecb907b2d23aad25faf6ccad32ac4"
      },
      "cell_type": "markdown",
      "source": ""
    },
    {
      "metadata": {
        "_kg_hide-input": true,
        "_uuid": "675f72fb58d83c527f71819e71ed8e17f81126f5",
        "trusted": true
      },
      "cell_type": "code",
      "source": "#How many NA elements in every column\n#command--> 10\nusers.isnull().sum()",
      "execution_count": null,
      "outputs": []
    },
    {
      "metadata": {
        "_kg_hide-input": true,
        "_uuid": "675f72fb58d83c527f71819e71ed8e17f81126f5",
        "trusted": true
      },
      "cell_type": "code",
      "source": "kernels.isnull().sum()",
      "execution_count": null,
      "outputs": []
    },
    {
      "metadata": {
        "_kg_hide-input": true,
        "_uuid": "446e6162e16325213047ff31454813455668b574",
        "trusted": true
      },
      "cell_type": "code",
      "source": "#command--> 11\nkernels.groupby('Medal').count()",
      "execution_count": null,
      "outputs": []
    },
    {
      "metadata": {
        "_uuid": "c2f1eaf0b6dfdc7cc4dace04614e99ed56425d00"
      },
      "cell_type": "markdown",
      "source": "To print dataset **columns**, we can use columns atribute."
    },
    {
      "metadata": {
        "_kg_hide-input": true,
        "_uuid": "909d61b33ec06249d0842e6115597bbacf21163f",
        "trusted": true
      },
      "cell_type": "code",
      "source": "kernels.columns",
      "execution_count": null,
      "outputs": []
    },
    {
      "metadata": {
        "_kg_hide-input": true,
        "_uuid": "62b52ea61cfa597007bd31652c7f03778233227c",
        "trusted": true
      },
      "cell_type": "code",
      "source": "users.columns",
      "execution_count": null,
      "outputs": []
    },
    {
      "metadata": {
        "_kg_hide-input": true,
        "_uuid": "40f98b7a01af83ef9be8cd81c72bf281e07493ae",
        "trusted": true
      },
      "cell_type": "code",
      "source": "train.columns",
      "execution_count": null,
      "outputs": []
    },
    {
      "metadata": {
        "_uuid": "22bc5d81c18275ee1fb082c0adbb7a65bdbec4cc"
      },
      "cell_type": "markdown",
      "source": "**<< Note 2 >>**\nIn pandas's data frame you can perform some query such as \"where\"."
    },
    {
      "metadata": {
        "_uuid": "ff69b963b60e8ff77acae02850885c7e90358129"
      },
      "cell_type": "markdown",
      "source": " <a id=\"10\"></a> <br>\n## 3-2-1 Find yourself in Users datset"
    },
    {
      "metadata": {
        "_kg_hide-input": true,
        "_uuid": "1e36488451f22350bc2c655bfdd2b50803540b87",
        "trusted": true
      },
      "cell_type": "code",
      "source": "#command--> 12\nusers[users['Id']==userid]",
      "execution_count": null,
      "outputs": []
    },
    {
      "metadata": {
        "_uuid": "33fc33a18489b438a884819d99dc00a02b113be8"
      },
      "cell_type": "markdown",
      "source": " <a id=\"11\"></a> <br>\n## 3-2-2 Find your kernels in Kernels dataset"
    },
    {
      "metadata": {
        "_kg_hide-input": true,
        "_uuid": "aa877c667451c76a052808964bbf8eb5991b39e0",
        "trusted": true
      },
      "cell_type": "code",
      "source": "#command--> 13\nyourkernels=kernels[kernels['AuthorUserId']==userid]\nyourkernels",
      "execution_count": null,
      "outputs": []
    },
    {
      "metadata": {
        "_uuid": "5fb860dc8bb6bc8feba55df8936f05a3f139115f"
      },
      "cell_type": "markdown",
      "source": "<a id=\"12\"></a> <br>\n## 3-4 Data Preprocessing\n**Data preprocessing** refers to the transformations applied to our data before feeding it to the algorithm.\n \nData Preprocessing is a technique that is used to convert the raw data into a clean data set. In other words, whenever the data is gathered from different sources it is collected in raw format which is not feasible for the analysis.\nthere are plenty of steps for data preprocessing and we just listed some of them in general(Not just for Quora) :\n* Removing Target column (id)\n* Sampling (without replacement)\n* Making part of iris unbalanced and balancing (with undersampling and SMOTE)\n* Introducing missing values and treating them (replacing by average values)\n* Noise filtering\n* Data discretization\n* Normalization and standardization\n* PCA analysis\n* Feature selection (filter, embedded, wrapper)\n###### [Go to top](#top)"
    },
    {
      "metadata": {
        "_kg_hide-input": true,
        "_uuid": "0d7bdcfe284e49847a3488a5c8ecbeda71097583",
        "trusted": true
      },
      "cell_type": "code",
      "source": "text = train['question_text']\ni=0\n#command--> 14\nfor row in text[:10]:\n    i=i+1\n    print(str(i),row)",
      "execution_count": null,
      "outputs": []
    },
    {
      "metadata": {
        "_uuid": "bc203c66770b52d30c4cbf961243070198c9252a"
      },
      "cell_type": "markdown",
      "source": "### 3-4-1 Remove Numbers"
    },
    {
      "metadata": {
        "_kg_hide-input": true,
        "_uuid": "812834e990b10afb01e949e09b86af5f0a8e9357",
        "trusted": true
      },
      "cell_type": "code",
      "source": "#command--> 15\ndef removeNumbers(text):\n    \"\"\" Removes integers \"\"\"\n    text = ''.join([i for i in text if not i.isdigit()])         \n    return text\n\ntext_removeNumbers = pd.DataFrame(columns=['TextBefore', 'TextAfter', 'Changed'])\ntext_removeNumbers['TextBefore'] = text.copy()",
      "execution_count": null,
      "outputs": []
    },
    {
      "metadata": {
        "_kg_hide-input": true,
        "_uuid": "54f76a2bb5a2b75227842751936a178553328b34",
        "trusted": true
      },
      "cell_type": "code",
      "source": "for index, row in text_removeNumbers.iterrows():\n    row['TextAfter'] = removeNumbers(row['TextBefore'])",
      "execution_count": null,
      "outputs": []
    },
    {
      "metadata": {
        "_kg_hide-input": true,
        "_uuid": "d2f241a5ffe44f46991cc382cdab0d0e81d88850",
        "trusted": true
      },
      "cell_type": "code",
      "source": "#command--> 16\ntext_removeNumbers['Changed'] = np.where(text_removeNumbers['TextBefore']==text_removeNumbers['TextAfter'], 'no', 'yes')\nprint(\"{} of {} ({:.4f}%) questions have been changed.\".format(len(text_removeNumbers[text_removeNumbers['Changed']=='yes']), len(text_removeNumbers), 100*len(text_removeNumbers[text_removeNumbers['Changed']=='yes'])/len(text_removeNumbers)))",
      "execution_count": null,
      "outputs": []
    },
    {
      "metadata": {
        "_kg_hide-input": true,
        "_uuid": "5f618edd119f64bdcaca196a1699f19fb9bdbe1d",
        "trusted": true
      },
      "cell_type": "code",
      "source": "for index, row in text_removeNumbers[text_removeNumbers['Changed']=='yes'].head().iterrows():\n    print(row['TextBefore'],'->',row['TextAfter'])",
      "execution_count": null,
      "outputs": []
    },
    {
      "metadata": {
        "_uuid": "4c478414d064c2333112f07448343477c32c1509"
      },
      "cell_type": "markdown",
      "source": "The metafeatures that we'll create based on  SRK's  EDAs, [sudalairajkumar](http://http://www.kaggle.com/sudalairajkumar/simple-feature-engg-notebook-spooky-author) and [tunguz](https://www.kaggle.com/tunguz/just-some-simple-eda) are:\n1. Number of words in the text\n1. Number of unique words in the text\n1. Number of characters in the text\n1. Number of stopwords\n1. Number of punctuations\n1. Number of upper case words\n1. Number of title case words\n1. Average length of the words"
    },
    {
      "metadata": {
        "_uuid": "0be2fbf75d975fc8361fdb70451c64e3fcf16320"
      },
      "cell_type": "markdown",
      "source": "Number of words in the text "
    },
    {
      "metadata": {
        "_kg_hide-input": true,
        "_uuid": "bce5854c5e8fc0cef7db77e8a9abeaad64c30e84",
        "trusted": true
      },
      "cell_type": "code",
      "source": "#command--> 17\ntrain[\"num_words\"] = train[\"question_text\"].apply(lambda x: len(str(x).split()))\ntest[\"num_words\"] = test[\"question_text\"].apply(lambda x: len(str(x).split()))\nprint('maximum of num_words in train',train[\"num_words\"].max())\nprint('min of num_words in train',train[\"num_words\"].min())\nprint(\"maximum of  num_words in test\",test[\"num_words\"].max())\nprint('min of num_words in train',test[\"num_words\"].min())\n",
      "execution_count": null,
      "outputs": []
    },
    {
      "metadata": {
        "_uuid": "25bf1789c9a338cce7f0809c959609291af26e1b"
      },
      "cell_type": "markdown",
      "source": "Number of unique words in the text"
    },
    {
      "metadata": {
        "_kg_hide-input": true,
        "_uuid": "f07efdfcda98708220a0f18a7a3993372cfed266",
        "trusted": true
      },
      "cell_type": "code",
      "source": "train[\"num_unique_words\"] = train[\"question_text\"].apply(lambda x: len(set(str(x).split())))\ntest[\"num_unique_words\"] = test[\"question_text\"].apply(lambda x: len(set(str(x).split())))\nprint('maximum of num_unique_words in train',train[\"num_unique_words\"].max())\nprint('mean of num_unique_words in train',train[\"num_unique_words\"].mean())\nprint(\"maximum of num_unique_words in test\",test[\"num_unique_words\"].max())\nprint('mean of num_unique_words in train',test[\"num_unique_words\"].mean())",
      "execution_count": null,
      "outputs": []
    },
    {
      "metadata": {
        "_uuid": "7750a576d4d556e2a25c264ac186daceb667f6f9"
      },
      "cell_type": "markdown",
      "source": "Number of characters in the text "
    },
    {
      "metadata": {
        "_kg_hide-input": true,
        "_uuid": "5677a7d44d437d0ee94d0849533bca7f1075b10c",
        "trusted": true
      },
      "cell_type": "code",
      "source": "\ntrain[\"num_chars\"] = train[\"question_text\"].apply(lambda x: len(str(x)))\ntest[\"num_chars\"] = test[\"question_text\"].apply(lambda x: len(str(x)))\nprint('maximum of num_chars in train',train[\"num_chars\"].max())\nprint(\"maximum of num_chars in test\",test[\"num_chars\"].max())",
      "execution_count": null,
      "outputs": []
    },
    {
      "metadata": {
        "_uuid": "511b92ce149dcc317e02ba017344ac2625956ccf"
      },
      "cell_type": "markdown",
      "source": "Number of stopwords in the text"
    },
    {
      "metadata": {
        "_kg_hide-input": true,
        "_uuid": "6b4963b95b3a4781e4cab004fa231109fa08a943",
        "trusted": true
      },
      "cell_type": "code",
      "source": "#from nltk.corpus import stopwords\neng_stopwords = set(stopwords.words(\"english\"))",
      "execution_count": null,
      "outputs": []
    },
    {
      "metadata": {
        "_kg_hide-input": true,
        "_uuid": "def001bb47659a235c5599ccc3d706639e0b1b0a",
        "trusted": true
      },
      "cell_type": "code",
      "source": "train[\"num_stopwords\"] = train[\"question_text\"].apply(lambda x: len([w for w in str(x).lower().split() if w in eng_stopwords]))\ntest[\"num_stopwords\"] = test[\"question_text\"].apply(lambda x: len([w for w in str(x).lower().split() if w in eng_stopwords]))\nprint('maximum of num_stopwords in train',train[\"num_stopwords\"].max())\nprint(\"maximum of num_stopwords in test\",test[\"num_stopwords\"].max())",
      "execution_count": null,
      "outputs": []
    },
    {
      "metadata": {
        "_uuid": "938cde022787d1b03000382a903b960597640d06"
      },
      "cell_type": "markdown",
      "source": "Number of punctuations in the text"
    },
    {
      "metadata": {
        "_kg_hide-input": true,
        "_uuid": "e72fc2184245fadffb767d0f2fe8e68403c12274",
        "trusted": true
      },
      "cell_type": "code",
      "source": "\ntrain[\"num_punctuations\"] =train['question_text'].apply(lambda x: len([c for c in str(x) if c in string.punctuation]) )\ntest[\"num_punctuations\"] =test['question_text'].apply(lambda x: len([c for c in str(x) if c in string.punctuation]) )\nprint('maximum of num_punctuations in train',train[\"num_punctuations\"].max())\nprint(\"maximum of num_punctuations in test\",test[\"num_punctuations\"].max())",
      "execution_count": null,
      "outputs": []
    },
    {
      "metadata": {
        "_uuid": "8ae7a13782b109a892f9e1504fd3ac790fa518a8"
      },
      "cell_type": "markdown",
      "source": "Number of title case words in the text"
    },
    {
      "metadata": {
        "_kg_hide-input": true,
        "_uuid": "2874be8704da173bab1ac29e5982727b2067fbd9",
        "trusted": true
      },
      "cell_type": "code",
      "source": "\ntrain[\"num_words_upper\"] = train[\"question_text\"].apply(lambda x: len([w for w in str(x).split() if w.isupper()]))\ntest[\"num_words_upper\"] = test[\"question_text\"].apply(lambda x: len([w for w in str(x).split() if w.isupper()]))\nprint('maximum of num_words_upper in train',train[\"num_words_upper\"].max())\nprint(\"maximum of num_words_upper in test\",test[\"num_words_upper\"].max())",
      "execution_count": null,
      "outputs": []
    },
    {
      "metadata": {
        "_uuid": "8df5b6b86abc982b15afb973bd390eddb027e0b9"
      },
      "cell_type": "markdown",
      "source": "Number of title case words in the text"
    },
    {
      "metadata": {
        "_kg_hide-input": true,
        "_uuid": "fd2e10d8b5fd5cf99fb95afe9d2964f23ceb2e50",
        "trusted": true
      },
      "cell_type": "code",
      "source": "\ntrain[\"num_words_title\"] = train[\"question_text\"].apply(lambda x: len([w for w in str(x).split() if w.istitle()]))\ntest[\"num_words_title\"] = test[\"question_text\"].apply(lambda x: len([w for w in str(x).split() if w.istitle()]))\nprint('maximum of num_words_title in train',train[\"num_words_title\"].max())\nprint(\"maximum of num_words_title in test\",test[\"num_words_title\"].max())",
      "execution_count": null,
      "outputs": []
    },
    {
      "metadata": {
        "_uuid": "f4fa05b90e1abb77c6582275e1f9ebf2844628c4"
      },
      "cell_type": "markdown",
      "source": " Average length of the words in the text "
    },
    {
      "metadata": {
        "_kg_hide-input": true,
        "_uuid": "442b391fda00a1bc99b48b47d41cbb4c3e2ef6d4",
        "trusted": true
      },
      "cell_type": "code",
      "source": "\ntrain[\"mean_word_len\"] = train[\"question_text\"].apply(lambda x: np.mean([len(w) for w in str(x).split()]))\ntest[\"mean_word_len\"] = test[\"question_text\"].apply(lambda x: np.mean([len(w) for w in str(x).split()]))\nprint('mean_word_len in train',train[\"mean_word_len\"].max())\nprint(\"mean_word_len in test\",test[\"mean_word_len\"].max())",
      "execution_count": null,
      "outputs": []
    },
    {
      "metadata": {
        "_uuid": "aa882e5bcdc7d5f440489eff75d1d225269655a4"
      },
      "cell_type": "markdown",
      "source": "**<< Note >>**\n>**Preprocessing and generation pipelines depend on a model type**"
    },
    {
      "metadata": {
        "_uuid": "055772bd170aa8018aabd85106b76675802c33b3"
      },
      "cell_type": "markdown",
      "source": "<a id=\"13\"></a> <br>\n## 3-4 Visualization\n**Data visualization**  is the presentation of data in a pictorial or graphical format. It enables decision makers to see analytics presented visually, so they can grasp difficult concepts or identify new patterns.\n\nWith interactive visualization, you can take the concept a step further by using technology to drill down into charts and graphs for more detail, interactively changing what data you see and how it’s processed.[SAS]\n\n In this section I show you  **11 plots** with **matplotlib** and **seaborn** that is listed in the blew picture:\n <img src=\"http://s8.picofile.com/file/8338475500/visualization.jpg\" />\n"
    },
    {
      "metadata": {
        "_uuid": "b0014a7a52e714996bc443981c853095926d20e5"
      },
      "cell_type": "markdown",
      "source": "<a id=\"14\"></a> <br>\n## 3-4-1  Scatter plot\n\nScatter plot Purpose To identify the type of relationship (if any) between two quantitative variables\n\n\n"
    },
    {
      "metadata": {
        "_kg_hide-input": true,
        "_uuid": "8f35fd1761bec3516ad6940f88e916dfb67dfda0",
        "trusted": true
      },
      "cell_type": "code",
      "source": "#command--> 18\nyourkernels.columns",
      "execution_count": null,
      "outputs": []
    },
    {
      "metadata": {
        "_kg_hide-input": true,
        "_uuid": "af099546eed64ebc796403d4139cb4c977c27b03",
        "trusted": true
      },
      "cell_type": "code",
      "source": "# Modify the graph above by assigning each species an individual color.\n#command--> 19\nx=yourkernels[\"TotalVotes\"]\ny=yourkernels[\"TotalViews\"]\nplt.scatter(x, y)\nplt.legend()\nplt.show()\n",
      "execution_count": null,
      "outputs": []
    },
    {
      "metadata": {
        "_kg_hide-input": true,
        "_uuid": "1b31a7c185ee654c31ff5b062d111bcefa205966",
        "trusted": true
      },
      "cell_type": "code",
      "source": "f,ax=plt.subplots(1,2,figsize=(18,8))\nyourkernels['Medal'].value_counts().plot.bar(color=['#CD7F32','#FFDF00','#D3D3D3'],ax=ax[0])\nax[0].set_title('Number Of Medal')\nax[0].set_ylabel('Count')\nplt.show()",
      "execution_count": null,
      "outputs": []
    },
    {
      "metadata": {
        "_uuid": "d1c7b62b5f8cba427bca13049256365141655372"
      },
      "cell_type": "markdown",
      "source": "<a id=\"15\"></a> <br>\n### 3-4-2 Box\nIn descriptive statistics, a **box plot** or boxplot is a method for graphically depicting groups of numerical data through their quartiles. Box plots may also have lines extending vertically from the boxes (whiskers) indicating variability outside the upper and lower quartiles, hence the terms box-and-whisker plot and box-and-whisker diagram.[wikipedia]"
    },
    {
      "metadata": {
        "_kg_hide-input": true,
        "_uuid": "0655e20f31a582f861d391308a088778cd7eaae9",
        "trusted": true
      },
      "cell_type": "code",
      "source": "#command--> 20\nyourkernels[\"TotalVotes\"].plot(kind='box')\nplt.figure()\n#This gives us a much clearer idea of the distribution of the input attributes:\n\n",
      "execution_count": null,
      "outputs": []
    },
    {
      "metadata": {
        "_uuid": "81b8d70c5d8b2d024337d989ec1e204b612f676d",
        "trusted": true,
        "_kg_hide-input": true
      },
      "cell_type": "code",
      "source": "yourkernels[\"TotalComments\"].plot(kind='box')\nplt.figure()\n",
      "execution_count": null,
      "outputs": []
    },
    {
      "metadata": {
        "_kg_hide-input": true,
        "_uuid": "f7f6426fd44bcd77d35a5fdbc8c4fc4f18d991ad",
        "trusted": true
      },
      "cell_type": "code",
      "source": "# To plot the species data using a box plot:\n#command--> 21\nsns.boxplot(x=\"TotalComments\", y=\"TotalVotes\", data=yourkernels )\nplt.show()",
      "execution_count": null,
      "outputs": []
    },
    {
      "metadata": {
        "_kg_hide-input": true,
        "_uuid": "7b193e4aa7e6fb337d3f65c334849094addd097a",
        "trusted": true
      },
      "cell_type": "code",
      "source": "# Use Seaborn's striplot to add data points on top of the box plot \n# Insert jitter=True so that the data points remain scattered and not piled into a verticle line.\n# Assign ax to each axis, so that each plot is ontop of the previous axis. \n\nax= sns.boxplot(x=\"TotalViews\", y=\"TotalVotes\", data=yourkernels)\nax= sns.stripplot(x=\"TotalViews\", y=\"TotalVotes\", data=yourkernels, jitter=True, edgecolor=\"gray\")\nplt.show()",
      "execution_count": null,
      "outputs": []
    },
    {
      "metadata": {
        "_kg_hide-input": true,
        "_uuid": "56adbafa89c117118621c72b3b7cb19edc21298e",
        "trusted": true
      },
      "cell_type": "code",
      "source": "# Tweek the plot above to change fill and border color color using ax.artists.\n# Assing ax.artists a variable name, and insert the box number into the corresponding brackets\n#command--> 22\nax= sns.boxplot(x=\"TotalViews\", y=\"TotalVotes\", data=yourkernels)\nax= sns.stripplot(x=\"TotalViews\", y=\"TotalVotes\", data=yourkernels, jitter=True, edgecolor=\"gray\")\n\nboxtwo = ax.artists[2]\nboxtwo.set_facecolor('red')\nboxtwo.set_edgecolor('black')\nboxthree=ax.artists[1]\nboxthree.set_facecolor('yellow')\nboxthree.set_edgecolor('black')\n\nplt.show()",
      "execution_count": null,
      "outputs": []
    },
    {
      "metadata": {
        "_kg_hide-input": true,
        "_uuid": "40c9ab245695d47cb33eda65a0d637de390f9e59",
        "trusted": true
      },
      "cell_type": "code",
      "source": "sns.factorplot('TotalViews','TotalVotes',hue='Medal',data=yourkernels)\nplt.show()",
      "execution_count": null,
      "outputs": []
    },
    {
      "metadata": {
        "_uuid": "c73a82a05855195ac32dedb3056e84355e273b0f",
        "trusted": true,
        "_kg_hide-input": true
      },
      "cell_type": "code",
      "source": "sns.factorplot('TotalComments','TotalVotes',hue='Medal',data=yourkernels)\nplt.show()",
      "execution_count": null,
      "outputs": []
    },
    {
      "metadata": {
        "_uuid": "743a92c3c2fff1a1f99845518247f7971ad18b7c"
      },
      "cell_type": "markdown",
      "source": "<a id=\"16\"></a> <br>\n### 3-4-3 Histogram\nWe can also create a **histogram** of each input variable to get an idea of the distribution.\n\n"
    },
    {
      "metadata": {
        "_uuid": "fcea7d2a5fb011f4ea70e19d7a50f0aba5af731b",
        "trusted": true,
        "_kg_hide-input": true
      },
      "cell_type": "code",
      "source": "train[\"num_words\"] = train[\"question_text\"].apply(lambda x: len(str(x).split()))\ntest[\"num_words\"] = test[\"question_text\"].apply(lambda x: len(str(x).split()))\nprint('maximum of num_words in train',train[\"num_words\"].max())\nprint('min of num_words in train',train[\"num_words\"].min())\nprint(\"maximum of  num_words in test\",test[\"num_words\"].max())\nprint('min of num_words in train',test[\"num_words\"].min())\n",
      "execution_count": null,
      "outputs": []
    },
    {
      "metadata": {
        "_uuid": "66f3be03ed655d3ed76026fd977835106ac47a54",
        "trusted": true,
        "_kg_hide-input": true
      },
      "cell_type": "code",
      "source": "#command--> 23\nf,ax=plt.subplots(1,2,figsize=(20,10))\ntrain[train['target']==0].num_words.plot.hist(ax=ax[0],bins=20,edgecolor='black',color='red')\nax[0].set_title('target= 0')\nx1=list(range(0,85,5))\nax[0].set_xticks(x1)\ntrain[train['target']==1].num_words.plot.hist(ax=ax[1],color='green',bins=20,edgecolor='black')\nax[1].set_title('target= 1')\nx2=list(range(0,85,5))\nax[1].set_xticks(x2)\nplt.show()",
      "execution_count": null,
      "outputs": []
    },
    {
      "metadata": {
        "_kg_hide-input": true,
        "_uuid": "5da0520ed3e738ee8814b2d91843ed4acec2b6e6",
        "trusted": true
      },
      "cell_type": "code",
      "source": "# histograms\n#command--> 24\nyourkernels.hist(figsize=(15,20))\nplt.figure()",
      "execution_count": null,
      "outputs": []
    },
    {
      "metadata": {
        "_uuid": "90b6df3255561e3944ea89c5f1ca8c815f862a7f",
        "trusted": true,
        "_kg_hide-input": true
      },
      "cell_type": "code",
      "source": "train[\"num_words\"].hist();",
      "execution_count": null,
      "outputs": []
    },
    {
      "metadata": {
        "_uuid": "b4e3de19781686010c6038f0e3076eb678398169"
      },
      "cell_type": "markdown",
      "source": "It looks like perhaps two of the input variables have a Gaussian distribution. This is useful to note as we can use algorithms that can exploit this assumption.\n\n"
    },
    {
      "metadata": {
        "_kg_hide-input": true,
        "_uuid": "9f80a6e971cbf0af72d659b51af552ea1dddc9a8",
        "trusted": true
      },
      "cell_type": "code",
      "source": "yourkernels[\"TotalViews\"].hist();",
      "execution_count": null,
      "outputs": []
    },
    {
      "metadata": {
        "_uuid": "1173ef1b6ca75e28f94a891880294d1765b022ea",
        "trusted": true,
        "_kg_hide-input": true
      },
      "cell_type": "code",
      "source": "yourkernels[\"TotalComments\"].hist();",
      "execution_count": null,
      "outputs": []
    },
    {
      "metadata": {
        "_kg_hide-input": true,
        "_uuid": "5d8ef0781d88c46a8becf6d7f5b1f4ad2c05db7e",
        "trusted": true
      },
      "cell_type": "code",
      "source": "sns.factorplot('TotalViews','TotalVotes',data=yourkernels)\nplt.show()",
      "execution_count": null,
      "outputs": []
    },
    {
      "metadata": {
        "_uuid": "15e2743389cb58055ee5bb9dd9b829fb85850af2",
        "trusted": true,
        "_kg_hide-input": true
      },
      "cell_type": "code",
      "source": "sns.factorplot('TotalComments','TotalVotes',data=yourkernels)\nplt.show()",
      "execution_count": null,
      "outputs": []
    },
    {
      "metadata": {
        "_uuid": "e0f696ec021ec99c1058a62e22c8b73082fe6fa7"
      },
      "cell_type": "markdown",
      "source": "<a id=\"17\"></a> <br>\n### 3-4-5 violinplots"
    },
    {
      "metadata": {
        "_kg_hide-input": true,
        "_uuid": "e352d2f8340609adf4bf6718b1d2ecee0fa730b5",
        "trusted": true
      },
      "cell_type": "code",
      "source": "# violinplots on petal-length for each species\n#command--> 24\nsns.violinplot(data=yourkernels,x=\"TotalViews\", y=\"TotalVotes\")",
      "execution_count": null,
      "outputs": []
    },
    {
      "metadata": {
        "_uuid": "82d42d69a63f9dacf41dad5bfb1b7908cefc2633",
        "trusted": true,
        "_kg_hide-input": true
      },
      "cell_type": "code",
      "source": "# violinplots on petal-length for each species\nsns.violinplot(data=yourkernels,x=\"TotalComments\", y=\"TotalVotes\")",
      "execution_count": null,
      "outputs": []
    },
    {
      "metadata": {
        "_uuid": "363b3e9509d5e3ba157c0b5f319d2585c58ee28f",
        "trusted": true,
        "_kg_hide-input": true
      },
      "cell_type": "code",
      "source": "sns.violinplot(data=yourkernels,x=\"Medal\", y=\"TotalVotes\")",
      "execution_count": null,
      "outputs": []
    },
    {
      "metadata": {
        "_uuid": "c67af4ad8d452f8e9f929e8a3284de675e3fd0d9",
        "trusted": true,
        "_kg_hide-input": true
      },
      "cell_type": "code",
      "source": "sns.violinplot(data=yourkernels,x=\"Medal\", y=\"TotalComments\")",
      "execution_count": null,
      "outputs": []
    },
    {
      "metadata": {
        "_uuid": "a6315bf510cecb907b2d23aad25faf6ccad32ac4"
      },
      "cell_type": "markdown",
      "source": "How many NA elements in every column.\n"
    },
    {
      "metadata": {
        "_uuid": "2544d3c2dd34a360d295019d8cb597c7ef8f66bc"
      },
      "cell_type": "markdown",
      "source": "<a id=\"18\"></a> <br>\n###  3-6-7 kdeplot"
    },
    {
      "metadata": {
        "_kg_hide-input": true,
        "_uuid": "1d07222b89303b386e9e824d52cc73c045667f25",
        "trusted": true
      },
      "cell_type": "code",
      "source": "# seaborn's kdeplot, plots univariate or bivariate density estimates.\n#Size can be changed by tweeking the value used\n#command--> 25\nsns.FacetGrid(yourkernels, hue=\"Medal\", size=5).map(sns.kdeplot, \"TotalComments\").add_legend()\nplt.show()",
      "execution_count": null,
      "outputs": []
    },
    {
      "metadata": {
        "_uuid": "3662003d5cb728d91c71e339cc7d6feba17b495f",
        "trusted": true,
        "_kg_hide-input": true
      },
      "cell_type": "code",
      "source": "sns.FacetGrid(yourkernels, hue=\"Medal\", size=5).map(sns.kdeplot, \"TotalVotes\").add_legend()\nplt.show()",
      "execution_count": null,
      "outputs": []
    },
    {
      "metadata": {
        "_kg_hide-input": true,
        "_uuid": "06e1259b209e753c2f05643706d6157145bb3b98",
        "trusted": true
      },
      "cell_type": "code",
      "source": "f,ax=plt.subplots(1,3,figsize=(20,8))\nsns.distplot(yourkernels[yourkernels['Medal']==1].TotalVotes,ax=ax[0])\nax[0].set_title('TotalVotes in Medal 1')\nsns.distplot(yourkernels[yourkernels['Medal']==2].TotalVotes,ax=ax[1])\nax[1].set_title('TotalVotes in Medal 2')\nsns.distplot(yourkernels[yourkernels['Medal']==3].TotalVotes,ax=ax[2])\nax[2].set_title('TotalVotes in Medal 3')\nplt.show()",
      "execution_count": null,
      "outputs": []
    },
    {
      "metadata": {
        "_uuid": "560d8e8f17bacefaf8c3855a9648f26b82fdee9b"
      },
      "cell_type": "markdown",
      "source": "<a id=\"19\"></a> <br>\n### 3-4-8 jointplot"
    },
    {
      "metadata": {
        "_kg_hide-input": true,
        "_uuid": "4adb4da16ea61e0f1a12bc9925dfbbaaa81e0360",
        "trusted": true
      },
      "cell_type": "code",
      "source": "# Use seaborn's jointplot to make a hexagonal bin plot\n#Set desired size and ratio and choose a color.\n#command--> 25\nsns.jointplot(x=\"TotalVotes\", y=\"TotalViews\", data=yourkernels, size=10,ratio=10, kind='hex',color='green')\nplt.show()",
      "execution_count": null,
      "outputs": []
    },
    {
      "metadata": {
        "_uuid": "3768e31e990bfe4c2ff7b45087fbba85e0560d00"
      },
      "cell_type": "markdown",
      "source": "<a id=\"20\"></a> <br>\n###  3-4-9 andrews_curves"
    },
    {
      "metadata": {
        "_kg_hide-input": true,
        "_uuid": "263eaa9d2bfad0f8c68b6e8e874bdc11a6e802ac",
        "trusted": true
      },
      "cell_type": "code",
      "source": "# we will use seaborn jointplot shows bivariate scatterplots and univariate histograms with Kernel density \n# estimation in the same figure\nsns.jointplot(x=\"TotalVotes\", y=\"TotalViews\", data=yourkernels, size=6, kind='kde', color='#800000', space=0)",
      "execution_count": null,
      "outputs": []
    },
    {
      "metadata": {
        "_uuid": "8e73333289d17dd648b7b2112d7fe3fe7ea444d0"
      },
      "cell_type": "markdown",
      "source": "<a id=\"21\"></a> <br>\n### 3-4-10 Heatmap"
    },
    {
      "metadata": {
        "_kg_hide-input": true,
        "_uuid": "3100955ca9dc61ac7d435e9c064d10d06f26afa7",
        "trusted": true
      },
      "cell_type": "code",
      "source": "#command--> 26\nplt.figure(figsize=(10,7)) \nsns.heatmap(yourkernels.corr(),annot=True,cmap='cubehelix_r') #draws  heatmap with input as the correlation matrix calculted by(iris.corr())\nplt.show()",
      "execution_count": null,
      "outputs": []
    },
    {
      "metadata": {
        "_uuid": "6ac924245735f2f63dc95f4a60039cbc4b5f9f0a"
      },
      "cell_type": "markdown",
      "source": "<a id=\"22\"></a> <br>\n## 3-4-11 WordCloud\nMany times you might have seen a cloud filled with lots of words in different sizes, which represent the frequency or the importance of each word. This is called Tag Cloud or WordCloud."
    },
    {
      "metadata": {
        "_kg_hide-input": true,
        "_uuid": "d405a5c758a63d38f92124a790e3083715224f39",
        "trusted": true
      },
      "cell_type": "code",
      "source": "#command--> 27\nfrom wordcloud import WordCloud as wc\nfrom nltk.corpus import stopwords\neng_stopwords = set(stopwords.words(\"english\"))\nmessages.head(1)",
      "execution_count": null,
      "outputs": []
    },
    {
      "metadata": {
        "_kg_hide-input": true,
        "_uuid": "2d794c89a475349868f82690878ed934ec05fd81",
        "trusted": true
      },
      "cell_type": "code",
      "source": "def generate_wordcloud(text): \n    wordcloud = wc(relative_scaling = 1.0,stopwords = eng_stopwords).generate(text)\n    fig,ax = plt.subplots(1,1,figsize=(10,10))\n    ax.imshow(wordcloud, interpolation='bilinear')\n    ax.axis(\"off\")\n    ax.margins(x=0, y=0)\n    plt.show()",
      "execution_count": null,
      "outputs": []
    },
    {
      "metadata": {
        "_kg_hide-input": true,
        "_uuid": "037cd661617de8b3470ade47ac212a31b12e6e1e",
        "trusted": true
      },
      "cell_type": "code",
      "source": "text=','.join(str(v) for v in train['question_text'])\n#text =\" \".join(messages['Message'])\ngenerate_wordcloud(text)",
      "execution_count": null,
      "outputs": []
    },
    {
      "metadata": {
        "_kg_hide-input": true,
        "_uuid": "83d564bc724f73bfea4b645e3736b46243d0edb0",
        "trusted": true
      },
      "cell_type": "code",
      "source": "text=','.join(str(v) for v in messages['Message'])\n#text =\" \".join(messages['Message'])\ngenerate_wordcloud(text)",
      "execution_count": null,
      "outputs": []
    },
    {
      "metadata": {
        "_uuid": "3fff0732ca216c092cc41f33d45dc67e54f2c8f0"
      },
      "cell_type": "markdown",
      "source": "<a id=\"23\"></a> <br>\n## 3-4-12 CountPlot"
    },
    {
      "metadata": {
        "_kg_hide-input": true,
        "_uuid": "016fab6c1ce45edb1baf69cf052517dd4e07b002",
        "trusted": true
      },
      "cell_type": "code",
      "source": "#command--> 28\nax=sns.countplot(x='target',hue=\"target\", data=train  ,linewidth=5,edgecolor=sns.color_palette(\"dark\", 3))\nplt.title('Is data set imbalance?');",
      "execution_count": null,
      "outputs": []
    },
    {
      "metadata": {
        "_kg_hide-input": true,
        "_uuid": "9231021ad2da6e478f22dc11f4409de66f36049c",
        "trusted": true
      },
      "cell_type": "code",
      "source": "ax = sns.countplot(y=\"target\", hue=\"target\", data=train)\nplt.title('Is data set imbalance?');",
      "execution_count": null,
      "outputs": []
    },
    {
      "metadata": {
        "_uuid": "f5b7ad3f5d499ef756bd6666995aebcd33ba9fd5"
      },
      "cell_type": "markdown",
      "source": "<a id=\"24\"></a> <br>\n## 3-4-13 Pie Plot"
    },
    {
      "metadata": {
        "_kg_hide-input": true,
        "_uuid": "1bedf9e97cd52331c759fd05d19da9f441c1866e",
        "trusted": true
      },
      "cell_type": "code",
      "source": "#command--> 29\nax=train['target'].value_counts().plot.pie(explode=[0,0.1],autopct='%1.1f%%' ,shadow=True)\nax.set_title('target')\nax.set_ylabel('')\nplt.show()",
      "execution_count": null,
      "outputs": []
    },
    {
      "metadata": {
        "_uuid": "4f02c235284ef14f0007400125119ba36b81e325"
      },
      "cell_type": "markdown",
      "source": "<a id=\"25\"></a> <br>\n## 4- Matplotlib\n\nThis Matplotlib tutorial takes you through the basics Python data visualization: the anatomy of a plot, pyplot and pylab, and much more\n###### [Go to top](#top)"
    },
    {
      "metadata": {
        "_uuid": "857d9a02e72211b4fde6f06debd3a57c8a0b1849"
      },
      "cell_type": "markdown",
      "source": "You can show matplotlib figures directly in the notebook by using the `%matplotlib notebook` and `%matplotlib inline` magic commands. \n\n`%matplotlib notebook` provides an interactive environment."
    },
    {
      "metadata": {
        "_uuid": "0d66eabe3f4f7288f12f8f0160b2f8e914d16ba9",
        "trusted": true,
        "_kg_hide-input": true
      },
      "cell_type": "code",
      "source": "# because the default is the line style '-', \n# nothing will be shown if we only pass in one point (3,2)\nplt.plot(3, 2)",
      "execution_count": null,
      "outputs": []
    },
    {
      "metadata": {
        "_uuid": "dad68ac5985444a4458259c448d1b6ffd9bf1710",
        "trusted": true,
        "_kg_hide-input": true
      },
      "cell_type": "code",
      "source": "# we can pass in '.' to plt.plot to indicate that we want\n# the point (3,2) to be indicated with a marker '.'\nplt.plot(3, 2, '.')",
      "execution_count": null,
      "outputs": []
    },
    {
      "metadata": {
        "_uuid": "18c4b411903becff1b3612730bc0287cb6ac14ad"
      },
      "cell_type": "markdown",
      "source": "Let's see how to make a plot without using the scripting layer."
    },
    {
      "metadata": {
        "_uuid": "8f1bd139edb5cf1cc73f9f956d2d34844a726566",
        "trusted": true,
        "_kg_hide-input": true
      },
      "cell_type": "code",
      "source": "# First let's set the backend without using mpl.use() from the scripting layer\n\n# create a new figure\nfig = Figure()\n\n# associate fig with the backend\ncanvas = FigureCanvasAgg(fig)\n\n# add a subplot to the fig\nax = fig.add_subplot(111)\n\n# plot the point (3,2)\nax.plot(3, 2, '.')\n\n# save the figure to test.png\n# you can see this figure in your Jupyter workspace afterwards by going to\n# https://hub.coursera-notebooks.org/\ncanvas.print_png('test.png')",
      "execution_count": null,
      "outputs": []
    },
    {
      "metadata": {
        "_uuid": "66c8f302e0afffb4652ff2f80212610fd37ae126"
      },
      "cell_type": "markdown",
      "source": "We can use html cell magic to display the image."
    },
    {
      "metadata": {
        "_uuid": "d43abba30465cee9dc1364fd2a27334c70da8598",
        "trusted": true,
        "_kg_hide-input": true
      },
      "cell_type": "code",
      "source": "%%html\n<img src='test.png' />",
      "execution_count": null,
      "outputs": []
    },
    {
      "metadata": {
        "_uuid": "2c76e50e3ecda1fe2144f16b9c9fdaa6bca37c61",
        "trusted": true,
        "_kg_hide-input": true
      },
      "cell_type": "code",
      "source": "# create a new figure\nplt.figure()\n\n# plot the point (3,2) using the circle marker\nplt.plot(3, 2, 'o')\n\n# get the current axes\nax = plt.gca()\n\n# Set axis properties [xmin, xmax, ymin, ymax]\nax.axis([0,6,0,10])",
      "execution_count": null,
      "outputs": []
    },
    {
      "metadata": {
        "_uuid": "0cc553845bb24ead8e57b5ccc59c6753a847f136",
        "trusted": true,
        "_kg_hide-input": true
      },
      "cell_type": "code",
      "source": "# create a new figure\nplt.figure()\n\n# plot the point (1.5, 1.5) using the circle marker\nplt.plot(1.5, 1.5, 'o')\n# plot the point (2, 2) using the circle marker\nplt.plot(2, 2, 'o')\n# plot the point (2.5, 2.5) using the circle marker\nplt.plot(2.5, 2.5, 'o')",
      "execution_count": null,
      "outputs": []
    },
    {
      "metadata": {
        "_uuid": "41cc8f299ccc6825cf1ac49a8bc2039496bcc9a9",
        "trusted": true,
        "_kg_hide-input": true
      },
      "cell_type": "code",
      "source": "# get current axes\nax = plt.gca()\n# get all the child objects the axes contains\nax.get_children()",
      "execution_count": null,
      "outputs": []
    },
    {
      "metadata": {
        "_uuid": "add973c3905be06ebae9f033070ee779f58dd785",
        "trusted": true,
        "_kg_hide-input": true
      },
      "cell_type": "code",
      "source": "\nplt.plot([1, 2, 3, 4], [10, 20, 25, 30], color='lightblue', linewidth=3)\nplt.scatter([0.3, 3.8, 1.2, 2.5], [11, 25, 9, 26], color='darkgreen', marker='^')\nplt.xlim(0.5, 4.5)\nplt.show()",
      "execution_count": null,
      "outputs": []
    },
    {
      "metadata": {
        "_uuid": "0f4decd6f93319534a203748fd8a2b9bcc154ddb"
      },
      "cell_type": "markdown",
      "source": "<a id=\"26\"></a> <br>\n## 4-1 Scatterplots"
    },
    {
      "metadata": {
        "_uuid": "bf892e30bb09f0dc5fdf039d827ac55560b6ec06",
        "trusted": true,
        "_kg_hide-input": true
      },
      "cell_type": "code",
      "source": "\n\nx = np.array([1,2,3,4,5,6,7,8])\ny = x\n\nplt.figure()\nplt.scatter(x, y) # similar to plt.plot(x, y, '.'), but the underlying child objects in the axes are not Line2D",
      "execution_count": null,
      "outputs": []
    },
    {
      "metadata": {
        "_uuid": "9d4e979c8b366aa6e511a6d7316f63586346c649",
        "trusted": true,
        "_kg_hide-input": true
      },
      "cell_type": "code",
      "source": "\n\nx = np.array([1,2,3,4,5,6,7,8])\ny = x\n\n# create a list of colors for each point to have\n# ['green', 'green', 'green', 'green', 'green', 'green', 'green', 'red']\ncolors = ['green']*(len(x)-1)\ncolors.append('red')\n\nplt.figure()\n\n# plot the point with size 100 and chosen colors\nplt.scatter(x, y, s=100, c=colors)",
      "execution_count": null,
      "outputs": []
    },
    {
      "metadata": {
        "_uuid": "935be30b9a6a7c78b58fe1a9c6e4690c494fb697",
        "trusted": true,
        "_kg_hide-input": true
      },
      "cell_type": "code",
      "source": "# convert the two lists into a list of pairwise tuples\nzip_generator = zip([1,2,3,4,5], [6,7,8,9,10])\n\nprint(list(zip_generator))\n# the above prints:\n# [(1, 6), (2, 7), (3, 8), (4, 9), (5, 10)]\n\nzip_generator = zip([1,2,3,4,5], [6,7,8,9,10])\n# The single star * unpacks a collection into positional arguments\nprint(*zip_generator)\n# the above prints:\n# (1, 6) (2, 7) (3, 8) (4, 9) (5, 10)",
      "execution_count": null,
      "outputs": []
    },
    {
      "metadata": {
        "_uuid": "d6f848fc8d0879c658a6a4e90ca533bddf3be6e3",
        "trusted": true,
        "_kg_hide-input": true
      },
      "cell_type": "code",
      "source": "# use zip to convert 5 tuples with 2 elements each to 2 tuples with 5 elements each\nprint(list(zip((1, 6), (2, 7), (3, 8), (4, 9), (5, 10))))\n# the above prints:\n# [(1, 2, 3, 4, 5), (6, 7, 8, 9, 10)]\n\n\nzip_generator = zip([1,2,3,4,5], [6,7,8,9,10])\n# let's turn the data back into 2 lists\nx, y = zip(*zip_generator) # This is like calling zip((1, 6), (2, 7), (3, 8), (4, 9), (5, 10))\nprint(x)\nprint(y)\n# the above prints:\n# (1, 2, 3, 4, 5)\n# (6, 7, 8, 9, 10)",
      "execution_count": null,
      "outputs": []
    },
    {
      "metadata": {
        "_uuid": "b9c79e1558adbb3b19de2564376a24191766ab1f",
        "trusted": true,
        "_kg_hide-input": true
      },
      "cell_type": "code",
      "source": "plt.figure()\n# plot a data series 'Tall students' in red using the first two elements of x and y\nplt.scatter(x[:2], y[:2], s=100, c='red', label='Tall students')\n# plot a second data series 'Short students' in blue using the last three elements of x and y \nplt.scatter(x[2:], y[2:], s=100, c='blue', label='Short students')",
      "execution_count": null,
      "outputs": []
    },
    {
      "metadata": {
        "_uuid": "70731835527ce5a16e4a8bd2a0017e3bbe8065ee",
        "trusted": true,
        "_kg_hide-input": true
      },
      "cell_type": "code",
      "source": "# add a label to the x axis\nplt.xlabel('The number of times the child kicked a ball')\n# add a label to the y axis\nplt.ylabel('The grade of the student')\n# add a title\nplt.title('Relationship between ball kicking and grades')",
      "execution_count": null,
      "outputs": []
    },
    {
      "metadata": {
        "_uuid": "691db571df12646a4fe2740e55a43942ea779063",
        "trusted": true,
        "_kg_hide-input": true
      },
      "cell_type": "code",
      "source": "# add a legend (uses the labels from plt.scatter)\nplt.legend()",
      "execution_count": null,
      "outputs": []
    },
    {
      "metadata": {
        "_uuid": "0908d7c94c14feb08f953e5cd10f31cb0081f5d3",
        "trusted": true,
        "_kg_hide-input": true
      },
      "cell_type": "code",
      "source": "# add the legend to loc=4 (the lower right hand corner), also gets rid of the frame and adds a title\nplt.legend(loc=4, frameon=False, title='Legend')",
      "execution_count": null,
      "outputs": []
    },
    {
      "metadata": {
        "_uuid": "0eb79626b7b55559e40ca71ba5c3542466b629c9",
        "trusted": true,
        "_kg_hide-input": true
      },
      "cell_type": "code",
      "source": "# get children from current axes (the legend is the second to last item in this list)\nplt.gca().get_children()",
      "execution_count": null,
      "outputs": []
    },
    {
      "metadata": {
        "_uuid": "f2b5d97457e3ebd63311aef5b92fc137bd1701f5",
        "trusted": true,
        "_kg_hide-input": true
      },
      "cell_type": "code",
      "source": "# get the legend from the current axes\nlegend = plt.gca().get_children()[-2]",
      "execution_count": null,
      "outputs": []
    },
    {
      "metadata": {
        "_uuid": "5334176f4177a64cb1726accb26502beb9b36626",
        "trusted": true,
        "_kg_hide-input": true
      },
      "cell_type": "code",
      "source": "x = np.random.randint(low=1, high=11, size=50)\ny = x + np.random.randint(1, 5, size=x.size)\ndata = np.column_stack((x, y))\n\nfig, (ax1, ax2) = plt.subplots(nrows=1, ncols=2,\n                               figsize=(8, 4))\n\nax1.scatter(x=x, y=y, marker='o', c='r', edgecolor='b')\nax1.set_title('Scatter: $x$ versus $y$')\nax1.set_xlabel('$x$')\nax1.set_ylabel('$y$')\n\nax2.hist(data, bins=np.arange(data.min(), data.max()),\n         label=('x', 'y'))\nax2.legend(loc=(0.65, 0.8))\nax2.set_title('Frequencies of $x$ and $y$')\nax2.yaxis.tick_right()",
      "execution_count": null,
      "outputs": []
    },
    {
      "metadata": {
        "_uuid": "c372afa727e992b9ec097c1f172becfd06bff4ef"
      },
      "cell_type": "markdown",
      "source": "<a id=\"27\"></a> <br>\n## 4-2 Line Plots"
    },
    {
      "metadata": {
        "_uuid": "163942ca710e3c67e8479cd02518ca37eae8ead7",
        "trusted": true,
        "_kg_hide-input": true
      },
      "cell_type": "code",
      "source": "\n\nlinear_data = np.array([1,2,3,4,5,6,7,8])\nexponential_data = linear_data**2\n\nplt.figure()\n# plot the linear data and the exponential data\nplt.plot(linear_data, '-o', exponential_data, '-o')",
      "execution_count": null,
      "outputs": []
    },
    {
      "metadata": {
        "_uuid": "7a4c6677b81fb82e1e7a1164ced70c4168080dbf",
        "trusted": true,
        "_kg_hide-input": true
      },
      "cell_type": "code",
      "source": "# plot another series with a dashed red line\nplt.plot([22,44,55], '--r')",
      "execution_count": null,
      "outputs": []
    },
    {
      "metadata": {
        "_uuid": "517e72eb500a3ba4db76467919f59ded9d3683cb"
      },
      "cell_type": "markdown",
      "source": "<a id=\"28\"></a> <br>\n## 4-3 Bar Charts"
    },
    {
      "metadata": {
        "_uuid": "8a5ee722c74c9228af2bcece24831e1539fe97b2",
        "trusted": true,
        "_kg_hide-input": true
      },
      "cell_type": "code",
      "source": "plt.figure()\nxvals = range(len(linear_data))\nplt.bar(xvals, linear_data, width = 0.3)",
      "execution_count": null,
      "outputs": []
    },
    {
      "metadata": {
        "_uuid": "11a85a29ca9b1574536bfee91cc63122148d996e",
        "trusted": true,
        "_kg_hide-input": true
      },
      "cell_type": "code",
      "source": "new_xvals = []\n\n# plot another set of bars, adjusting the new xvals to make up for the first set of bars plotted\nfor item in xvals:\n    new_xvals.append(item+0.3)\n\nplt.bar(new_xvals, exponential_data, width = 0.3 ,color='red')",
      "execution_count": null,
      "outputs": []
    },
    {
      "metadata": {
        "_uuid": "f6597010276961362ce22b84d49a9ef5f46521f6",
        "trusted": true,
        "_kg_hide-input": true
      },
      "cell_type": "code",
      "source": "from random import randint\nlinear_err = [randint(0,15) for x in range(len(linear_data))] \n\n# This will plot a new set of bars with errorbars using the list of random error values\nplt.bar(xvals, linear_data, width = 0.3, yerr=linear_err)",
      "execution_count": null,
      "outputs": []
    },
    {
      "metadata": {
        "_uuid": "8db2b0bb5d4160f7954bbcd7d9e53d29c68ef342",
        "trusted": true,
        "_kg_hide-input": true
      },
      "cell_type": "code",
      "source": "# stacked bar charts are also possible\nplt.figure()\nxvals = range(len(linear_data))\nplt.bar(xvals, linear_data, width = 0.3, color='b')\nplt.bar(xvals, exponential_data, width = 0.3, bottom=linear_data, color='r')",
      "execution_count": null,
      "outputs": []
    },
    {
      "metadata": {
        "_uuid": "ee208f2f850122b6e01ff1236b2915914fe59466",
        "trusted": true,
        "_kg_hide-input": true
      },
      "cell_type": "code",
      "source": "# or use barh for horizontal bar charts\nplt.figure()\nxvals = range(len(linear_data))\nplt.barh(xvals, linear_data, height = 0.3, color='b')\nplt.barh(xvals, exponential_data, height = 0.3, left=linear_data, color='r')",
      "execution_count": null,
      "outputs": []
    },
    {
      "metadata": {
        "_uuid": "acd3cfbdedddae19d7a2bbc9b02fefba21f595de",
        "trusted": true,
        "_kg_hide-input": true
      },
      "cell_type": "code",
      "source": "\n\n# Initialize the plot\nfig = plt.figure(figsize=(20,10))\nax1 = fig.add_subplot(121)\nax2 = fig.add_subplot(122)\n\n# or replace the three lines of code above by the following line: \n#fig, (ax1, ax2) = plt.subplots(1,2, figsize=(20,10))\n\n# Plot the data\nax1.bar([1,2,3],[3,4,5])\nax2.barh([0.5,1,2.5],[0,1,2])\n\n# Show the plot\nplt.show()",
      "execution_count": null,
      "outputs": []
    },
    {
      "metadata": {
        "_uuid": "db3db00430b8e5ddb633f3c7c82a6bf63ccb0cbc",
        "trusted": true,
        "_kg_hide-input": true
      },
      "cell_type": "code",
      "source": "plt.figure()\n# subplot with 1 row, 2 columns, and current axis is 1st subplot axes\nplt.subplot(1, 2, 1)\n\nlinear_data = np.array([1,2,3,4,5,6,7,8])\n\nplt.plot(linear_data, '-o')",
      "execution_count": null,
      "outputs": []
    },
    {
      "metadata": {
        "_uuid": "ce5372a8e09fd5379b1b33c7b451ec1b983f8616",
        "trusted": true,
        "_kg_hide-input": true
      },
      "cell_type": "code",
      "source": "exponential_data = linear_data**2 \n\n# subplot with 1 row, 2 columns, and current axis is 2nd subplot axes\nplt.subplot(1, 2, 2)\nplt.plot(exponential_data, '-o')",
      "execution_count": null,
      "outputs": []
    },
    {
      "metadata": {
        "_uuid": "cc4de0125429bdcd3227e894d083c0425934b228",
        "trusted": true,
        "_kg_hide-input": true
      },
      "cell_type": "code",
      "source": "# plot exponential data on 1st subplot axes\nplt.subplot(1, 2, 1)\nplt.plot(exponential_data, '-x')",
      "execution_count": null,
      "outputs": []
    },
    {
      "metadata": {
        "_uuid": "0b565e5356d99d5875de88a853710ee2dd3c4a53",
        "trusted": true,
        "_kg_hide-input": true
      },
      "cell_type": "code",
      "source": "plt.figure()\nax1 = plt.subplot(1, 2, 1)\nplt.plot(linear_data, '-o')\n# pass sharey=ax1 to ensure the two subplots share the same y axis\nax2 = plt.subplot(1, 2, 2, sharey=ax1)\nplt.plot(exponential_data, '-x')",
      "execution_count": null,
      "outputs": []
    },
    {
      "metadata": {
        "_uuid": "ec35c2bab0a1debaa6420f15b929d127d0d5f8cd",
        "trusted": true,
        "_kg_hide-input": true
      },
      "cell_type": "code",
      "source": "plt.figure()\n# the right hand side is equivalent shorthand syntax\nplt.subplot(1,2,1) == plt.subplot(121)",
      "execution_count": null,
      "outputs": []
    },
    {
      "metadata": {
        "_uuid": "43bb9cbc7acd94927be086a66ad913bd0a796fc5",
        "trusted": true,
        "_kg_hide-input": true
      },
      "cell_type": "code",
      "source": "# create a 3x3 grid of subplots\nfig, ((ax1,ax2,ax3), (ax4,ax5,ax6), (ax7,ax8,ax9)) = plt.subplots(3, 3, sharex=True, sharey=True)\n# plot the linear_data on the 5th subplot axes \nax5.plot(linear_data, '-')",
      "execution_count": null,
      "outputs": []
    },
    {
      "metadata": {
        "_uuid": "ec95c476865ba15ca11e2ef4a1ba466a9212f9b9",
        "trusted": true,
        "_kg_hide-input": true
      },
      "cell_type": "code",
      "source": "# set inside tick labels to visible\nfor ax in plt.gcf().get_axes():\n    for label in ax.get_xticklabels() + ax.get_yticklabels():\n        label.set_visible(True)\nplt.show()",
      "execution_count": null,
      "outputs": []
    },
    {
      "metadata": {
        "_uuid": "161be784e0c413060709d21a160985ad798b40f8",
        "trusted": true,
        "_kg_hide-input": true
      },
      "cell_type": "code",
      "source": "# necessary on some systems to update the plot\nplt.gcf().canvas.draw()\nplt.show()",
      "execution_count": null,
      "outputs": []
    },
    {
      "metadata": {
        "_uuid": "487fb5e77983c55ae891c3a99537d6cef0450b74"
      },
      "cell_type": "markdown",
      "source": "<a id=\"29\"></a> <br>\n## 4-4 Histograms"
    },
    {
      "metadata": {
        "_uuid": "42551850b478e274b9f78d4f6ef717c636242616",
        "trusted": true,
        "_kg_hide-input": true
      },
      "cell_type": "code",
      "source": "# create 2x2 grid of axis subplots\nfig, ((ax1, ax2), (ax3, ax4)) = plt.subplots(2, 2, sharex=True)\naxs = [ax1,ax2,ax3,ax4]\n\n# draw n = 10, 100, 1000, and 10000 samples from the normal distribution and plot corresponding histograms\nfor n in range(0,len(axs)):\n    sample_size = 10**(n+1)\n    sample = np.random.normal(loc=0.0, scale=1.0, size=sample_size)\n    axs[n].hist(sample)\n    axs[n].set_title('n={}'.format(sample_size))",
      "execution_count": null,
      "outputs": []
    },
    {
      "metadata": {
        "_uuid": "39b84012b223069dd4cc6f1441d2ad0f585218bf",
        "trusted": true,
        "_kg_hide-input": true
      },
      "cell_type": "code",
      "source": "# repeat with number of bins set to 100\nfig, ((ax1, ax2), (ax3, ax4)) = plt.subplots(2, 2, sharex=True)\naxs = [ax1,ax2,ax3,ax4]\n\nfor n in range(0,len(axs)):\n    sample_size = 10**(n+1)\n    sample = np.random.normal(loc=0.0, scale=1.0, size=sample_size)\n    axs[n].hist(sample, bins=100)\n    axs[n].set_title('n={}'.format(sample_size))",
      "execution_count": null,
      "outputs": []
    },
    {
      "metadata": {
        "_uuid": "4def4012769663b5665f7b70a077cf839b7793f1",
        "trusted": true,
        "_kg_hide-input": true
      },
      "cell_type": "code",
      "source": "plt.figure()\nY = np.random.normal(loc=0.0, scale=1.0, size=10000)\nX = np.random.random(size=10000)\nplt.scatter(X,Y)",
      "execution_count": null,
      "outputs": []
    },
    {
      "metadata": {
        "_uuid": "f6304a7d71b6edf6894e93bc62ad9ee4ffb0cce1",
        "trusted": true,
        "_kg_hide-input": true
      },
      "cell_type": "code",
      "source": "# use gridspec to partition the figure into subplots\nimport matplotlib.gridspec as gridspec\n\nplt.figure()\ngspec = gridspec.GridSpec(3, 3)\n\ntop_histogram = plt.subplot(gspec[0, 1:])\nside_histogram = plt.subplot(gspec[1:, 0])\nlower_right = plt.subplot(gspec[1:, 1:])",
      "execution_count": null,
      "outputs": []
    },
    {
      "metadata": {
        "_uuid": "2a8f66c5169fcabafafa104e87897f175624245e",
        "trusted": true,
        "_kg_hide-input": true
      },
      "cell_type": "code",
      "source": "Y = np.random.normal(loc=0.0, scale=1.0, size=10000)\nX = np.random.random(size=10000)\nlower_right.scatter(X, Y)\ntop_histogram.hist(X, bins=100)\ns = side_histogram.hist(Y, bins=100, orientation='horizontal')",
      "execution_count": null,
      "outputs": []
    },
    {
      "metadata": {
        "_uuid": "97062a938d44626006bd9e24b5893fdf9d98155d",
        "trusted": true,
        "_kg_hide-input": true
      },
      "cell_type": "code",
      "source": "# clear the histograms and plot normed histograms\ntop_histogram.clear()\ntop_histogram.hist(X, bins=100, normed=True)\nside_histogram.clear()\nside_histogram.hist(Y, bins=100, orientation='horizontal', normed=True)\n# flip the side histogram's x axis\nside_histogram.invert_xaxis()",
      "execution_count": null,
      "outputs": []
    },
    {
      "metadata": {
        "_uuid": "e6b1208bb887180b8f0363c9e82cc6fcbf387698",
        "trusted": true,
        "_kg_hide-input": true
      },
      "cell_type": "code",
      "source": "# change axes limits\nfor ax in [top_histogram, lower_right]:\n    ax.set_xlim(0, 1)\nfor ax in [side_histogram, lower_right]:\n    ax.set_ylim(-5, 5)",
      "execution_count": null,
      "outputs": []
    },
    {
      "metadata": {
        "_uuid": "2bc0c6fc0bb19748e9e87603e3207f75ffa9b565"
      },
      "cell_type": "markdown",
      "source": "<a id=\"30\"></a> <br>\n## 4-5 Box and Whisker Plots"
    },
    {
      "metadata": {
        "_uuid": "94dad21ec08e2633dacb64a89e5c807145042994",
        "trusted": true,
        "_kg_hide-input": true
      },
      "cell_type": "code",
      "source": "\nnormal_sample = np.random.normal(loc=0.0, scale=1.0, size=10000)\nrandom_sample = np.random.random(size=10000)\ngamma_sample = np.random.gamma(2, size=10000)\n\ndf = pd.DataFrame({'normal': normal_sample, \n                   'random': random_sample, \n                   'gamma': gamma_sample})",
      "execution_count": null,
      "outputs": []
    },
    {
      "metadata": {
        "_uuid": "87c08a9f914647f1735cb4b835b80f645685ef1e",
        "trusted": true,
        "_kg_hide-input": true
      },
      "cell_type": "code",
      "source": "df.describe()",
      "execution_count": null,
      "outputs": []
    },
    {
      "metadata": {
        "_uuid": "9f4b288fe4b8ab78e6ad788e4bcfb5931920fcf2",
        "trusted": true,
        "_kg_hide-input": true
      },
      "cell_type": "code",
      "source": "plt.figure()\n# create a boxplot of the normal data, assign the output to a variable to supress output\n_ = plt.boxplot(df['normal'], whis='range')",
      "execution_count": null,
      "outputs": []
    },
    {
      "metadata": {
        "_uuid": "9dc56a6415be6584fba51630ced26b0aaa486a09",
        "trusted": true,
        "_kg_hide-input": true
      },
      "cell_type": "code",
      "source": "# clear the current figure\nplt.clf()\n# plot boxplots for all three of df's columns\n_ = plt.boxplot([ df['normal'], df['random'], df['gamma'] ], whis='range')",
      "execution_count": null,
      "outputs": []
    },
    {
      "metadata": {
        "_uuid": "0f44453d7022928d2aeed3c3e0126cbd7118cdd9",
        "trusted": true,
        "_kg_hide-input": true
      },
      "cell_type": "code",
      "source": "plt.figure()\n_ = plt.hist(df['gamma'], bins=100)",
      "execution_count": null,
      "outputs": []
    },
    {
      "metadata": {
        "_uuid": "4dba4f705171f002fc94429ec80f7b6a2fe67ff3",
        "trusted": true,
        "_kg_hide-input": true
      },
      "cell_type": "code",
      "source": "import mpl_toolkits.axes_grid1.inset_locator as mpl_il\n\nplt.figure()\nplt.boxplot([ df['normal'], df['random'], df['gamma'] ], whis='range')\n# overlay axis on top of another \nax2 = mpl_il.inset_axes(plt.gca(), width='60%', height='40%', loc=2)\nax2.hist(df['gamma'], bins=100)\nax2.margins(x=0.5)",
      "execution_count": null,
      "outputs": []
    },
    {
      "metadata": {
        "_uuid": "90b1e8ffe23e39ec54414c1fd63b5d5c4e72be6f",
        "trusted": true,
        "_kg_hide-input": true
      },
      "cell_type": "code",
      "source": "# switch the y axis ticks for ax2 to the right side\nax2.yaxis.tick_right()",
      "execution_count": null,
      "outputs": []
    },
    {
      "metadata": {
        "_uuid": "cb3652a440484d391d27122878456a642c58d804",
        "trusted": true,
        "_kg_hide-input": true
      },
      "cell_type": "code",
      "source": "# if `whis` argument isn't passed, boxplot defaults to showing 1.5*interquartile (IQR) whiskers with outliers\nplt.figure()\n_ = plt.boxplot([ df['normal'], df['random'], df['gamma'] ] )",
      "execution_count": null,
      "outputs": []
    },
    {
      "metadata": {
        "_uuid": "fbf8bf0a67f6c49d78911c5f37be531ebbcd9edb"
      },
      "cell_type": "markdown",
      "source": "<a id=\"31\"></a> <br>\n## 4-6 Heatmaps"
    },
    {
      "metadata": {
        "_uuid": "ebfc0dcb8e85aa540f6568fa96431a4e9707f3c1",
        "trusted": true,
        "_kg_hide-input": true
      },
      "cell_type": "code",
      "source": "plt.figure()\n\nY = np.random.normal(loc=0.0, scale=1.0, size=10000)\nX = np.random.random(size=10000)\n_ = plt.hist2d(X, Y, bins=25)",
      "execution_count": null,
      "outputs": []
    },
    {
      "metadata": {
        "_uuid": "fdbcf35950f94a4d0f1ce10efee6a4502f6ecfc8",
        "trusted": true,
        "_kg_hide-input": true
      },
      "cell_type": "code",
      "source": "plt.figure()\n_ = plt.hist2d(X, Y, bins=100)",
      "execution_count": null,
      "outputs": []
    },
    {
      "metadata": {
        "_uuid": "139f44a4deb043128c8c7254eb60c33e0fc26e68"
      },
      "cell_type": "markdown",
      "source": "<a id=\"32\"></a> <br>\n## 4-7 Animations"
    },
    {
      "metadata": {
        "_uuid": "b3676970195153dc6056600f024f55c1b6f0ba12",
        "trusted": true,
        "_kg_hide-input": true
      },
      "cell_type": "code",
      "source": "import matplotlib.animation as animation\n\nn = 100\nx = np.random.randn(n)",
      "execution_count": null,
      "outputs": []
    },
    {
      "metadata": {
        "_uuid": "ea3eb5835e4acd53d43da483e17d79c32228cad6",
        "trusted": true,
        "_kg_hide-input": true
      },
      "cell_type": "code",
      "source": "# create the function that will do the plotting, where curr is the current frame\ndef update(curr):\n    # check if animation is at the last frame, and if so, stop the animation a\n    if curr == n: \n        a.event_source.stop()\n    plt.cla()\n    bins = np.arange(-4, 4, 0.5)\n    plt.hist(x[:curr], bins=bins)\n    plt.axis([-4,4,0,30])\n    plt.gca().set_title('Sampling the Normal Distribution')\n    plt.gca().set_ylabel('Frequency')\n    plt.gca().set_xlabel('Value')\n    plt.annotate('n = {}'.format(curr), [3,27])",
      "execution_count": null,
      "outputs": []
    },
    {
      "metadata": {
        "_uuid": "fb2314b3b1735c5e191c8427c5abe6429e4ff767",
        "trusted": true,
        "_kg_hide-input": true
      },
      "cell_type": "code",
      "source": "fig = plt.figure()\na = animation.FuncAnimation(fig, update, interval=100)",
      "execution_count": null,
      "outputs": []
    },
    {
      "metadata": {
        "_uuid": "7e702e5e0a876f9fa0b2e4fe497a56b91e00a95d"
      },
      "cell_type": "markdown",
      "source": "<a id=\"33\"></a> <br>\n## 4-8 Interactivity"
    },
    {
      "metadata": {
        "_uuid": "51fefb947daf8ca558cbc153e2ddbf39bcb7d4b2",
        "trusted": true,
        "_kg_hide-input": true
      },
      "cell_type": "code",
      "source": "plt.figure()\ndata = np.random.rand(10)\nplt.plot(data)\n\ndef onclick(event):\n    plt.cla()\n    plt.plot(data)\n    plt.gca().set_title('Event at pixels {},{} \\nand data {},{}'.format(event.x, event.y, event.xdata, event.ydata))\n\n# tell mpl_connect we want to pass a 'button_press_event' into onclick when the event is detected\nplt.gcf().canvas.mpl_connect('button_press_event', onclick)",
      "execution_count": null,
      "outputs": []
    },
    {
      "metadata": {
        "_uuid": "1d64a25dc386a30bd895ca8f58ca86d632f05d74",
        "trusted": true,
        "_kg_hide-input": true
      },
      "cell_type": "code",
      "source": "from random import shuffle\norigins = ['China', 'Brazil', 'India', 'USA', 'Canada', 'UK', 'Germany', 'Iraq', 'Chile', 'Mexico']\n\nshuffle(origins)\n\ndf = pd.DataFrame({'height': np.random.rand(10),\n                   'weight': np.random.rand(10),\n                   'origin': origins})\ndf",
      "execution_count": null,
      "outputs": []
    },
    {
      "metadata": {
        "_uuid": "e13dd7e002938af1a52d7520004d839a3d7d2011",
        "trusted": true,
        "_kg_hide-input": true
      },
      "cell_type": "code",
      "source": "plt.figure()\n# picker=5 means the mouse doesn't have to click directly on an event, but can be up to 5 pixels away\nplt.scatter(df['height'], df['weight'], picker=5)\nplt.gca().set_ylabel('Weight')\nplt.gca().set_xlabel('Height')",
      "execution_count": null,
      "outputs": []
    },
    {
      "metadata": {
        "_uuid": "e926ab1d2dc2098a6af48526e9f980bf594c79cd",
        "trusted": true,
        "_kg_hide-input": true
      },
      "cell_type": "code",
      "source": "def onpick(event):\n    origin = df.iloc[event.ind[0]]['origin']\n    plt.gca().set_title('Selected item came from {}'.format(origin))\n\n# tell mpl_connect we want to pass a 'pick_event' into onpick when the event is detected\nplt.gcf().canvas.mpl_connect('pick_event', onpick)",
      "execution_count": null,
      "outputs": []
    },
    {
      "metadata": {
        "_uuid": "bb968584c16b9acc6466a3897c9415c57f3a7404",
        "trusted": true,
        "_kg_hide-input": true
      },
      "cell_type": "code",
      "source": "# use the 'seaborn-colorblind' style\nplt.style.use('seaborn-colorblind')",
      "execution_count": null,
      "outputs": []
    },
    {
      "metadata": {
        "_uuid": "84742816a16280f7bca7c43879d6762e10e0a440"
      },
      "cell_type": "markdown",
      "source": "<a id=\"34\"></a> <br>\n## 4-9 DataFrame.plot"
    },
    {
      "metadata": {
        "_uuid": "97a3554f9640a2b77e07c861b5a5b6c814a3b276",
        "trusted": true,
        "_kg_hide-input": true
      },
      "cell_type": "code",
      "source": "np.random.seed(123)\n\ndf = pd.DataFrame({'A': np.random.randn(365).cumsum(0), \n                   'B': np.random.randn(365).cumsum(0) + 20,\n                   'C': np.random.randn(365).cumsum(0) - 20}, \n                  index=pd.date_range('1/1/2017', periods=365))\ndf.head()",
      "execution_count": null,
      "outputs": []
    },
    {
      "metadata": {
        "_uuid": "4d64fa4bc8b62fe1f4d2c2de0869bb49c8f7fc3d",
        "trusted": true,
        "_kg_hide-input": true
      },
      "cell_type": "code",
      "source": "df.plot('A','B', kind = 'scatter');",
      "execution_count": null,
      "outputs": []
    },
    {
      "metadata": {
        "_uuid": "857cecae1e2c9eb59c1a9d136ef1c5422d86d5ba"
      },
      "cell_type": "markdown",
      "source": "You can also choose the plot kind by using the `DataFrame.plot.kind` methods instead of providing the `kind` keyword argument.\n\n`kind` :\n- `'line'` : line plot (default)\n- `'bar'` : vertical bar plot\n- `'barh'` : horizontal bar plot\n- `'hist'` : histogram\n- `'box'` : boxplot\n- `'kde'` : Kernel Density Estimation plot\n- `'density'` : same as 'kde'\n- `'area'` : area plot\n- `'pie'` : pie plot\n- `'scatter'` : scatter plot\n- `'hexbin'` : hexbin plot\n###### [Go to top](#top)"
    },
    {
      "metadata": {
        "_uuid": "74997530957394a96f0aed15c21e65f54911159c",
        "trusted": true,
        "_kg_hide-input": true
      },
      "cell_type": "code",
      "source": "# create a scatter plot of columns 'A' and 'C', with changing color (c) and size (s) based on column 'B'\ndf.plot.scatter('A', 'C', c='B', s=df['B'], colormap='viridis')",
      "execution_count": null,
      "outputs": []
    },
    {
      "metadata": {
        "_uuid": "6299f8dddb909c7850620499edc49afdfd909f75",
        "trusted": true,
        "_kg_hide-input": true
      },
      "cell_type": "code",
      "source": "ax = df.plot.scatter('A', 'C', c='B', s=df['B'], colormap='viridis')\nax.set_aspect('equal')",
      "execution_count": null,
      "outputs": []
    },
    {
      "metadata": {
        "_uuid": "91a25480397c8759047100da9ebc6c0264d8a918",
        "trusted": true,
        "_kg_hide-input": true
      },
      "cell_type": "code",
      "source": "df.plot.box();",
      "execution_count": null,
      "outputs": []
    },
    {
      "metadata": {
        "_uuid": "b7bfa0ce17ea260d75eb97a0161af3dbd700f780",
        "trusted": true,
        "_kg_hide-input": true
      },
      "cell_type": "code",
      "source": "df.plot.hist(alpha=0.7);",
      "execution_count": null,
      "outputs": []
    },
    {
      "metadata": {
        "_uuid": "21a68cb3d0111753d29df2b402011daff81c5ff4"
      },
      "cell_type": "markdown",
      "source": "[Kernel density estimation plots](https://en.wikipedia.org/wiki/Kernel_density_estimation) are useful for deriving a smooth continuous function from a given sample."
    },
    {
      "metadata": {
        "_uuid": "7b4d0f65af26e55acaf9a06da13dc71eb21a408b",
        "trusted": true,
        "_kg_hide-input": true
      },
      "cell_type": "code",
      "source": "df.plot.kde();",
      "execution_count": null,
      "outputs": []
    },
    {
      "metadata": {
        "_uuid": "6be2f6011b57248d4ec69ef562147e072d9718ae"
      },
      "cell_type": "markdown",
      "source": "<a id=\"35\"></a> <br>\n# 5- Seaborn\n\nAs you have just read, **Seaborn** is complimentary to Matplotlib and it specifically targets statistical data visualization. But it goes even further than that: Seaborn extends Matplotlib and that’s why it can address the two biggest frustrations of working with Matplotlib. Or, as Michael Waskom says in the “introduction to Seaborn”: “If matplotlib “tries to make easy things easy and hard things possible”, seaborn tries to make a well-defined set of hard things easy too.”\n\nOne of these hard things or frustrations had to do with the default Matplotlib parameters. Seaborn works with different parameters, which undoubtedly speaks to those users that don’t use the default looks of the Matplotlib plots\nSeaborn is a library for making statistical graphics in Python. It is built on top of matplotlib and closely integrated with pandas data structures.\n\nHere is some of the functionality that seaborn offers:\n\nA dataset-oriented API for examining relationships between multiple variables\nSpecialized support for using categorical variables to show observations or aggregate statistics\nOptions for visualizing univariate or bivariate distributions and for comparing them between subsets of data\nAutomatic estimation and plotting of linear regression models for different kinds dependent variables\nConvenient views onto the overall structure of complex datasets\nHigh-level abstractions for structuring multi-plot grids that let you easily build complex visualizations\nConcise control over matplotlib figure styling with several built-in themes\nTools for choosing color palettes that faithfully reveal patterns in your data\nSeaborn aims to make visualization a central part of exploring and understanding data. Its dataset-oriented plotting functions operate on dataframes and arrays containing whole datasets and internally perform the necessary semantic mapping and statistical aggregation to produce informative plots.\n\nHere’s an example of what this means:"
    },
    {
      "metadata": {
        "trusted": true,
        "_uuid": "61d945abc7817a724a8ff13b8d91601a26dd70a2"
      },
      "cell_type": "markdown",
      "source": "<a id=\"36\"></a> <br>\n## 5-1 Seaborn Vs Matplotlib\n\nIt is summarized that if Matplotlib “tries to make easy things easy and hard things possible”, Seaborn tries to make a well defined set of hard things easy too.”\n\nSeaborn helps resolve the two major problems faced by Matplotlib; the problems are\n\n* Default Matplotlib parameters\n* Working with data frames\n\nAs Seaborn compliments and extends Matplotlib, the learning curve is quite gradual. If you know Matplotlib, you are already half way through Seaborn.\n\nImportant Features of Seaborn\nSeaborn is built on top of Python’s core visualization library Matplotlib. It is meant to serve as a complement, and not a replacement. However, Seaborn comes with some very important features. Let us see a few of them here. The features help in −\n\n* Built in themes for styling matplotlib graphics\n* Visualizing univariate and bivariate data\n* Fitting in and visualizing linear regression models\n* Plotting statistical time series data\n* Seaborn works well with NumPy and Pandas data structures\n* It comes with built in themes for styling Matplotlib graphics\n\nIn most cases, you will still use Matplotlib for simple plotting. The knowledge of Matplotlib is recommended to tweak Seaborn’s default plots."
    },
    {
      "metadata": {
        "trusted": true,
        "_uuid": "e86d3560a60a12f19847f7264a984aeb14cba2d6",
        "_kg_hide-input": true
      },
      "cell_type": "code",
      "source": "def sinplot(flip = 1):\n   x = np.linspace(0, 14, 100)\n   for i in range(1, 5): \n      plt.plot(x, np.sin(x + i * .5) * (7 - i) * flip)\nsinplot()\nplt.show()",
      "execution_count": null,
      "outputs": []
    },
    {
      "metadata": {
        "trusted": true,
        "_uuid": "0d6d5a511f6a8785731b5a1bcdb1a9281553aa28",
        "_kg_hide-input": true
      },
      "cell_type": "code",
      "source": "def sinplot(flip = 1):\n   x = np.linspace(0, 14, 100)\n   for i in range(1, 5):\n      plt.plot(x, np.sin(x + i * .5) * (7 - i) * flip)\n \nsns.set()\nsinplot()\nplt.show()",
      "execution_count": null,
      "outputs": []
    },
    {
      "metadata": {
        "trusted": true,
        "_uuid": "4f6da88a64c3790d0a7bfc995bb82aae8e1f1420",
        "_kg_hide-input": true
      },
      "cell_type": "code",
      "source": "np.random.seed(1234)\n\nv1 = pd.Series(np.random.normal(0,10,1000), name='v1')\nv2 = pd.Series(2*v1 + np.random.normal(60,15,1000), name='v2')",
      "execution_count": null,
      "outputs": []
    },
    {
      "metadata": {
        "trusted": true,
        "_uuid": "420ffb34484da7b88db34e75d883b5a060b478a3",
        "_kg_hide-input": true
      },
      "cell_type": "code",
      "source": "plt.figure()\nplt.hist(v1, alpha=0.7, bins=np.arange(-50,150,5), label='v1');\nplt.hist(v2, alpha=0.7, bins=np.arange(-50,150,5), label='v2');\nplt.legend();",
      "execution_count": null,
      "outputs": []
    },
    {
      "metadata": {
        "trusted": true,
        "_uuid": "790f27d2a5a4ef507669b4e32ba901c2b6684f87",
        "_kg_hide-input": true
      },
      "cell_type": "code",
      "source": "plt.figure()\n# we can pass keyword arguments for each individual component of the plot\nsns.distplot(v2, hist_kws={'color': 'Teal'}, kde_kws={'color': 'Navy'});",
      "execution_count": null,
      "outputs": []
    },
    {
      "metadata": {
        "trusted": true,
        "_uuid": "65db67f8736affd36f13cf608abee2c338b929c0",
        "_kg_hide-input": true
      },
      "cell_type": "code",
      "source": "sns.jointplot(v1, v2, alpha=0.4);",
      "execution_count": null,
      "outputs": []
    },
    {
      "metadata": {
        "trusted": true,
        "_uuid": "a325a54e4b7728affe318c110b2fe4d6f448efd0",
        "_kg_hide-input": true
      },
      "cell_type": "code",
      "source": "grid = sns.jointplot(v1, v2, alpha=0.4);\ngrid.ax_joint.set_aspect('equal')",
      "execution_count": null,
      "outputs": []
    },
    {
      "metadata": {
        "trusted": true,
        "_uuid": "14f244f9f0332d8abb13136d14df7411a9727f04",
        "_kg_hide-input": true
      },
      "cell_type": "code",
      "source": "sns.jointplot(v1, v2, kind='hex');",
      "execution_count": null,
      "outputs": []
    },
    {
      "metadata": {
        "trusted": true,
        "_uuid": "87f176fd1a3741ab23902e3c05ebaaab3c0cf1a9",
        "_kg_hide-input": true
      },
      "cell_type": "code",
      "source": "# set the seaborn style for all the following plots\nsns.set_style('white')\n\nsns.jointplot(v1, v2, kind='kde', space=0);",
      "execution_count": null,
      "outputs": []
    },
    {
      "metadata": {
        "trusted": true,
        "_uuid": "61c3e460ed18b061a4017d402bc16997cdf9b50c"
      },
      "cell_type": "markdown",
      "source": "<a id=\"37\"></a> <br>\n## 5-2  10 Useful Python Data Visualization Libraries"
    },
    {
      "metadata": {
        "_uuid": "39dbde1e0e5f0443ce448c70af307c9fb367958d"
      },
      "cell_type": "markdown",
      "source": "I am giving an overview of 10 interdisciplinary Python data visualization libraries, from the well-known to the obscure.\n\n* 1- matplotlib\n\nmatplotlib is the O.G. of Python data visualization libraries. Despite being over a decade old, it’s still the most widely used library for plotting in the Python community. It was designed to closely resemble MATLAB, a proprietary programming language developed in the 1980s.\n\n* 2- Seaborn\n\nSeaborn harnesses the power of matplotlib to create beautiful charts in a few lines of code. The key difference is Seaborn’s default styles and color palettes, which are designed to be more aesthetically pleasing and modern. Since Seaborn is built on top of matplotlib, you’ll need to know matplotlib to tweak Seaborn’s defaults.\n\n* 3- ggplot\n\nggplot is based on ggplot2, an R plotting system, and concepts from The Grammar of Graphics. ggplot operates differently than matplotlib: it lets you layer components to create a complete plot. For instance, you can start with axes, then add points, then a line, a trendline, etc. Although The Grammar of Graphics has been praised as an “intuitive” method for plotting, seasoned matplotlib users might need time to adjust to this new mindset.\n\n\n* 4- Bokeh\n\nLike ggplot, Bokeh is based on The Grammar of Graphics, but unlike ggplot, it’s native to Python, not ported over from R. Its strength lies in the ability to create interactive, web-ready plots, which can be easily outputted as JSON objects, HTML documents, or interactive web applications. Bokeh also supports streaming and real-time data.\n\n\n* 5- pygal\n\nLike Bokeh and Plotly, pygal offers interactive plots that can be embedded in the web browser. Its prime differentiator is the ability to output charts as SVGs. As long as you’re working with smaller datasets, SVGs will do you just fine. But if you’re making charts with hundreds of thousands of data points, they’ll have trouble rendering and become sluggish.\n\n* 6- Plotly\n\nYou might know Plotly as an online platform for data visualization, but did you also know you can access its capabilities from a Python notebook? Like Bokeh, Plotly’s forte is making interactive plots, but it offers some charts you won’t find in most libraries, like contour plots, dendograms, and 3D charts.\n\n* 7- geoplotlib\n\ngeoplotlib is a toolbox for creating maps and plotting geographical data. You can use it to create a variety of map-types, like choropleths, heatmaps, and dot density maps. You must have Pyglet (an object-oriented programming interface) installed to use geoplotlib. Nonetheless, since most Python data visualization libraries don’t offer maps, it’s nice to have a library dedicated solely to them.\n\n* 8- Gleam\n\nGleam is inspired by R’s Shiny package. It allows you to turn analyses into interactive web apps using only Python scripts, so you don’t have to know any other languages like HTML, CSS, or JavaScript. Gleam works with any Python data visualization library. Once you’ve created a plot, you can build fields on top of it so users can filter and sort data.\n\n\n* 9- missingno\n\nDealing with missing data is a pain. missingno allows you to quickly gauge the completeness of a dataset with a visual summary, instead of trudging through a table. You can filter and sort data based on completion or spot correlations with a heatmap or a dendrogram.\n\n\n* 10- Leather\n\nLeather’s creator, Christopher Groskopf, puts it best: “Leather is the Python charting library for those who need charts now and don’t care if they’re perfect.” It’s designed to work with all data types and produces charts as SVGs, so you can scale them without losing image quality. Since this library is relatively new, some of the documentation is still in progress. The charts you can make are pretty basic—but that’s the intention.\n\nAt the end, nice cheatsheet on how to best visualize your data. I think I will print it out as a good reminder of \"best practices\". Check out the link for the complete cheatsheet, also as a PDF. hashtag#data hashtag#visualization hashtag#datascience\n\nLink: https://github.com/mjbahmani/Machine-Learning-Workflow-with-Python\n![cheatsheet ][1]\n[Reference][2]\n\n\n  [1]: http://s8.picofile.com/file/8340669884/53f6a826_d7df_4b55_81e6_7c23b3fff0a3_original.png\n  [2]: https://blog.modeanalytics.com/python-data-visualization-libraries/"
    },
    {
      "metadata": {
        "_uuid": "6caa0f9d20a055caebf9a2269c2081b052858806"
      },
      "cell_type": "markdown",
      "source": "<a id=\"38\"></a> <br>\n# 6- conclusion\nExploratory data analysis (**EDA**) is an approach to analyzing data sets to summarize their main **characteristics**, often with visual methods. A statistical model can be used or not, but primarily EDA is for seeing what the data can tell us beyond the formal modeling or hypothesis testing task.\nThis kernel it is not completed yet! Following up!\n###### [Go to top](#top)"
    },
    {
      "metadata": {
        "_uuid": "cf3679a51c72dbe2d2549b5fe97e4ac5f1fa0fa0"
      },
      "cell_type": "markdown",
      "source": "You can follow me on:\n\n> ###### [ GitHub](https://github.com/mjbahmani/10-steps-to-become-a-data-scientist)\n\n--------------------------------------\n\n **I hope you find this kernel helpful and some <font color=\"red\"><b>UPVOTES</b></font> would be very much appreciated** "
    },
    {
      "metadata": {
        "_uuid": "5590d9817e38722f88c9924517a591d43dfaf4ba"
      },
      "cell_type": "markdown",
      "source": "<a id=\"39\"></a> <br>\n# 7- References\n1. [Coursera](https://www.coursera.org/specializations/data-science-python)\n1. [GitHub](https://github.com/mjbahmani)\n\nAs always, I want to thank the kernels I've used to make this kernel:\n1. [deffro](https://www.kaggle.com/deffro/text-pre-processing-techniques)\n1. [SRK](https://www.kaggle.com/sudalairajkumar/simple-exploration-notebook-qiqc)\n1. [mihaskalic](https://www.kaggle.com/mihaskalic/lstm-is-all-you-need-well-maybe-embeddings-also)\n1. [artgor](https://www.kaggle.com/artgor/eda-and-lstm-cnn)\n1. [tunguz](https://www.kaggle.com/tunguz/just-some-simple-eda)\n<br>\n<br>\n[Go to top](#top)"
    },
    {
      "metadata": {
        "_uuid": "72e1e18935b372b6aac2fae910e5bd12de1d420f"
      },
      "cell_type": "markdown",
      "source": "#### This kernel is not completed yet and will be updated soon  !!!"
    }
  ],
  "metadata": {
    "kernelspec": {
      "display_name": "Python 3",
      "language": "python",
      "name": "python3"
    },
    "language_info": {
      "name": "python",
      "version": "3.6.6",
      "mimetype": "text/x-python",
      "codemirror_mode": {
        "name": "ipython",
        "version": 3
      },
      "pygments_lexer": "ipython3",
      "nbconvert_exporter": "python",
      "file_extension": ".py"
    }
  },
  "nbformat": 4,
  "nbformat_minor": 1
}