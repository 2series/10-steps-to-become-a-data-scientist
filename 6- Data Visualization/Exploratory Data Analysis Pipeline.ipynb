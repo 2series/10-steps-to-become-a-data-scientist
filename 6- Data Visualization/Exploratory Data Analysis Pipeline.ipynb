{
  "cells": [
    {
      "metadata": {
        "_uuid": "a8f9622945156d6337ba73c481da2de7efef7384"
      },
      "cell_type": "markdown",
      "source": "## <div style=\"text-align: center\">Exploratory Data Analysis Pipeline </div>\n\n<div style=\"text-align: center\">If you've followed my other kernels so far. You have noticed that for those who are <b>beginners</b>, I've introduced a course \"<b><a ref='https://www.kaggle.com/mjbahmani/10-steps-to-become-a-data-scientist' >10 Steps to Become a Data Scientist</a></b>.\" In this kernel we will start another step with each other. There are plenty of <b>Kernels</b> that can help you learn <b>EDA</b> from scratch but here in <b>Kaggle</b>, I want to Analysis <font color=\"green\"><b>Meta Kaggle</b></font> and <font color=\"green\"><b>Quora Insincere Question</b></font>,   popular  Datasets as a comprehensive pipeline for <b>EDA</b>. \nAfter reading, you can use it  to Analysis other real dataset and use it as a template to deal with <b>EDA</b> problems.</div>\n<img src='http://s9.picofile.com/file/8343417468/eda11.png' height=400 width=400>\n<div style=\"text-align:center\">last update: <b>11/23/2018</b></div>\n\n\n\n>###### You may  be interested have a look at it: [**10-Steps-to-Become-a-Data-Scientist**](https://github.com/mjbahmani/10-steps-to-become-a-data-scientist)\n\n\n---------------------------------------------------------------------\nYou can Fork and Run this kernel on Github:\n> ###### [ GitHub](https://github.com/mjbahmani/10-steps-to-become-a-data-scientist)\n\n-------------------------------------------------------------------------------------------------------------\n **I hope you find this kernel helpful and some <font color=\"red\"><b>UPVOTES</b></font> would be very much appreciated**\n \n -----------"
    },
    {
      "metadata": {
        "_uuid": "cda11210a88d6484112cbe2c3624225328326c6a"
      },
      "cell_type": "markdown",
      "source": " <a id=\"top\"></a> <br>\n## Notebook  Content\n1. [Introduction](#1)\n1. [Loading Packages](#2)\n    1. [version](#3)\n    1. [Setup](#4)\n1. [Exploratory data analysis](#5)\n1. [Data Collection](#6)\n    1. [Features](#7)\n    1. [Explorer Dataset](#8)\n1. [Data Cleaning](#9)\n    1. [Find yourself in Users datset](#10)\n    1. [Find your kernels in Kernels dataset](#11)\n1. [Data Preprocessing](#12)\n1. [Data Visaulization](#13)\n    1. [Scatter plot](#14)\n    1. [Box plot](#15)\n    1. [Histogram](#16)\n    1. [violinplots](#17)\n    1. [kdeplot](#18)\n    1. [jointplot](#19)\n    1. [andrews_curves](#20)\n    1. [Heatmap](#21)\n    1. [WordCloud](#22)\n1. [Conclusion](#23)    \n1. [References](#24)    \n    "
    },
    {
      "metadata": {
        "_uuid": "750903cc2679d39058f56df6c6c040be02b748df"
      },
      "cell_type": "markdown",
      "source": " <a id=\"1\"></a> <br>\n## 1- Introduction\nThis is a **comprehensive EDA techniques with python** , that I have spent a lot of time to complete it.\n\nit is clear that everyone in this community is familiar with Meta Kaggle and kaggle survey 2018 datasets but if you need to review your information about the datasets please visit  [meta-kaggle](https://www.kaggle.com/kaggle/meta-kaggle) and [Quora](https://www.kaggle.com/c/quora-insincere-questions-classification).\n\nI am open to getting your feedback for improving this **kernel** together.\n"
    },
    {
      "metadata": {
        "_uuid": "fbedcae8843986c2139f18dad4b5f313e6535ac5"
      },
      "cell_type": "markdown",
      "source": "<a id=\"2\"></a> <br>\n## 2- Loading Packages\nIn this kernel we are using the following packages:"
    },
    {
      "metadata": {
        "_uuid": "61f49281fdd8592b44c0867225f57e6fce36342c"
      },
      "cell_type": "markdown",
      "source": " <img src=\"http://s8.picofile.com/file/8338227868/packages.png\">\n Now we import all of them "
    },
    {
      "metadata": {
        "_cell_guid": "b1076dfc-b9ad-4769-8c92-a6c4dae69d19",
        "_uuid": "8f2839f25d086af736a60e9eeb907d3b93b6e0e5",
        "trusted": true,
        "_kg_hide-input": true
      },
      "cell_type": "code",
      "source": "from sklearn.model_selection import train_test_split\nfrom sklearn.metrics import classification_report\nfrom sklearn.metrics import confusion_matrix\nfrom sklearn.metrics import accuracy_score\nfrom wordcloud import WordCloud as wc\nfrom nltk.corpus import stopwords\nimport matplotlib.pylab as pylab\nimport matplotlib.pyplot as plt\nfrom pandas import get_dummies\nimport matplotlib as mpl\nimport seaborn as sns\nimport pandas as pd\nimport numpy as np\nimport matplotlib\nimport warnings\nimport sklearn\nimport string\nimport scipy\nimport numpy\nimport nltk\nimport json\nimport sys\nimport csv\nimport os",
      "execution_count": null,
      "outputs": []
    },
    {
      "metadata": {
        "_uuid": "cb6fbd6b1eee108ca34577de77592af65b781cc0"
      },
      "cell_type": "markdown",
      "source": "<a id=\"3\"></a> <br>\n## 2-1 version"
    },
    {
      "metadata": {
        "trusted": true,
        "_uuid": "7d081df6329f26958f545c32b4d96172b3be96d9",
        "_kg_hide-input": true
      },
      "cell_type": "code",
      "source": "print('matplotlib: {}'.format(matplotlib.__version__))\nprint('sklearn: {}'.format(sklearn.__version__))\nprint('scipy: {}'.format(scipy.__version__))\nprint('seaborn: {}'.format(sns.__version__))\nprint('pandas: {}'.format(pd.__version__))\nprint('numpy: {}'.format(np.__version__))\nprint('Python: {}'.format(sys.version))\n#print('wordcloud: {}'.format(wordcloud.version))",
      "execution_count": null,
      "outputs": []
    },
    {
      "metadata": {
        "_uuid": "4634f86ca193d38c1121af4d30f31acf25d9d334"
      },
      "cell_type": "markdown",
      "source": "<a id=\"4\"></a> <br>\n## 2-2 Setup\n\nA few tiny adjustments for better **code readability**"
    },
    {
      "metadata": {
        "trusted": true,
        "_uuid": "13ccd69be8e3a0502a3e172d1416686ce8cdba56",
        "_kg_hide-input": true
      },
      "cell_type": "code",
      "source": "sns.set(style='white', context='notebook', palette='deep')\npylab.rcParams['figure.figsize'] = 12,8\nwarnings.filterwarnings('ignore')\nmpl.style.use('ggplot')\nsns.set_style('white')\n%matplotlib inline",
      "execution_count": null,
      "outputs": []
    },
    {
      "metadata": {
        "_uuid": "04ff1a533119d589baee777c21194a951168b0c7"
      },
      "cell_type": "markdown",
      "source": "<a id=\"5\"></a> <br>\n## 3- Exploratory Data Analysis(EDA)\n In this section, you'll learn how to use graphical and numerical techniques to begin uncovering the structure of your data. \n \n* Which variables suggest interesting relationships?\n* Which observations are unusual?\n\nBy the end of the section, you'll be able to answer these questions and more, while generating graphics that are both insightful and beautiful.  then We will review analytical and statistical operations:\n\n1. Data Collection\n1. Visualization\n1. Data Cleaning\n1. Data Preprocessing\n\n<img src=\"http://s9.picofile.com/file/8338476134/EDA.png\">\n\n###### [Go to top](#top)"
    },
    {
      "metadata": {
        "_uuid": "cedecea930b278f86292367cc28d2996a235a169"
      },
      "cell_type": "markdown",
      "source": "<a id=\"6\"></a> <br>\n## 3-1 Data Collection\n**Data collection** is the process of gathering and measuring data, information or any variables of interest in a standardized and established manner that enables the collector to answer or test hypothesis and evaluate outcomes of the particular collection.[techopedia]\n<img src='https://www.iaeemwc.com/assets/images/Blog/data-collection.jpg' height=300 width=300>\n\nI start Collection Data by the Users and Kernels datasets into **Pandas DataFrames**"
    },
    {
      "metadata": {
        "_uuid": "9269ae851b744856bce56840637030a16a5877e1",
        "trusted": true,
        "_kg_hide-input": true
      },
      "cell_type": "code",
      "source": "# import kernels and users to play with it\nusers = pd.read_csv(\"../input/meta-kaggle/Users.csv\")\nkernels = pd.read_csv(\"../input/meta-kaggle/Kernels.csv\")\nmessages = pd.read_csv(\"../input/meta-kaggle/ForumMessages.csv\")\nfreeFormResponses=pd.read_csv(\"../input/kaggle-survey-2018/freeFormResponses.csv\")\nmultipleChoiceResponses=pd.read_csv(\"../input/kaggle-survey-2018/multipleChoiceResponses.csv\")\ntrain = pd.read_csv(\"../input/quora-insincere-questions-classification/train.csv\")\ntest = pd.read_csv(\"../input/quora-insincere-questions-classification/test.csv\")",
      "execution_count": null,
      "outputs": []
    },
    {
      "metadata": {
        "_uuid": "58ed9c838069f54de5cf90b20a774c3e236149b3"
      },
      "cell_type": "markdown",
      "source": "**<< Note 1 >>**\n\n* Each row is an observation (also known as : sample, example, instance, record)\n* Each column is a feature (also known as: Predictor, attribute, Independent Variable, input, regressor, Covariate)\n###### [Go to top](#top)"
    },
    {
      "metadata": {
        "trusted": true,
        "_uuid": "33344731ac8933d46461ca893ea8936f6ee1c3e4",
        "_kg_hide-input": true
      },
      "cell_type": "code",
      "source": "users.sample(1) ",
      "execution_count": null,
      "outputs": []
    },
    {
      "metadata": {
        "trusted": true,
        "_uuid": "6a15630f403601203c74bba16f343ae61d9937fb",
        "_kg_hide-input": true
      },
      "cell_type": "code",
      "source": "kernels.sample(1) ",
      "execution_count": null,
      "outputs": []
    },
    {
      "metadata": {
        "trusted": true,
        "_uuid": "dcb47a70a03a7e73bab46f31dd3096a09be7b560"
      },
      "cell_type": "code",
      "source": "train.sample(1)",
      "execution_count": null,
      "outputs": []
    },
    {
      "metadata": {
        "_uuid": "7b5fd1034cd591ebd29fba1c77d342ec2b408d13"
      },
      "cell_type": "markdown",
      "source": "### Please **replace** your username and find your userid\n\nwe suppose that userid==authoruserid and use userid for both kernels and users dataset"
    },
    {
      "metadata": {
        "_uuid": "edd043f8feb76cfe51b79785302ca4936ceb7b51",
        "trusted": true,
        "_kg_hide-input": true
      },
      "cell_type": "code",
      "source": "username=\"mjbahmani\"\nuserid=int(users[users['UserName']==\"mjbahmani\"].Id)\nuserid",
      "execution_count": null,
      "outputs": []
    },
    {
      "metadata": {
        "_uuid": "7cc8cac399d9d348842ea0b589581f5f909c17dd"
      },
      "cell_type": "markdown",
      "source": "But if we had , we can just use **dropna()**(be careful sometimes you should not do this!)"
    },
    {
      "metadata": {
        "trusted": true,
        "_uuid": "7972fa0a7d1950d8a59f9820c6cacc00eb8f1015"
      },
      "cell_type": "code",
      "source": "# remove rows that have NA's\nprint('Before Droping',train.shape)\ntrain = train.dropna()\nprint('After Droping',train.shape)",
      "execution_count": null,
      "outputs": []
    },
    {
      "metadata": {
        "_uuid": "b1a61ef77cbe97153445293fc8d01f409d87272f"
      },
      "cell_type": "markdown",
      "source": "<a id=\"7\"></a> <br>\n## 3-1-1 Features\nFeatures can be from following types:\n1. numeric\n1. categorical\n1. ordinal\n1. datetime\n1. coordinates\n\nFind the type of features in **Meta Kaggle**?!\n<br>\nfor getting some information about the dataset you can use **info()** command\n###### [Go to top](#top)"
    },
    {
      "metadata": {
        "trusted": true,
        "_uuid": "de95bf94a02721364ad6cbd6d440d664b2961e39",
        "_kg_hide-input": true
      },
      "cell_type": "code",
      "source": "print(users.info())",
      "execution_count": null,
      "outputs": []
    },
    {
      "metadata": {
        "_kg_hide-input": true,
        "trusted": true,
        "_uuid": "8f47ccc4538b823bf0a5ac15eef7787395620ed5"
      },
      "cell_type": "code",
      "source": "print(freeFormResponses.info())",
      "execution_count": null,
      "outputs": []
    },
    {
      "metadata": {
        "trusted": true,
        "_uuid": "7b650ee1c8aaa1d7c7e1c15dd102169e0fd0db60"
      },
      "cell_type": "code",
      "source": "print(train.info())",
      "execution_count": null,
      "outputs": []
    },
    {
      "metadata": {
        "_uuid": "e08d410c0dac5cf34eea33940ab586eb7e9ded5a"
      },
      "cell_type": "markdown",
      "source": "<a id=\"8\"></a> <br>\n## 3-1-2 Explorer Dataset\n1- Dimensions of the dataset.\n\n2- Peek at the data itself.\n\n3- Statistical summary of all attributes.\n\n4- Breakdown of the data by the class variable.\n\nDon’t worry, each look at the data is **one command**. These are useful commands that you can use again and again on future projects.\n###### [Go to top](#top)"
    },
    {
      "metadata": {
        "_uuid": "4b45251be7be77333051fe738639104ae1005fa5",
        "trusted": true,
        "_kg_hide-input": true
      },
      "cell_type": "code",
      "source": "# shape\nprint(users.shape)",
      "execution_count": null,
      "outputs": []
    },
    {
      "metadata": {
        "_uuid": "4b45251be7be77333051fe738639104ae1005fa5",
        "trusted": true,
        "_kg_hide-input": true
      },
      "cell_type": "code",
      "source": "# shape\nprint(kernels.shape)",
      "execution_count": null,
      "outputs": []
    },
    {
      "metadata": {
        "trusted": true,
        "_uuid": "5e6358361a6a8fcc60087baa6cebb18c18296299",
        "_kg_hide-input": true
      },
      "cell_type": "code",
      "source": "print(freeFormResponses.shape)",
      "execution_count": null,
      "outputs": []
    },
    {
      "metadata": {
        "trusted": true,
        "_uuid": "8b724ebb9a0a1176e52543938bc67591b54d3e8d"
      },
      "cell_type": "code",
      "source": "print(train.shape)",
      "execution_count": null,
      "outputs": []
    },
    {
      "metadata": {
        "_uuid": "c64e9d3e0bf394fb833de94a0fc5c34f69fce24c",
        "trusted": true,
        "_kg_hide-input": true
      },
      "cell_type": "code",
      "source": "#columns*rows\nusers.size",
      "execution_count": null,
      "outputs": []
    },
    {
      "metadata": {
        "_uuid": "c64e9d3e0bf394fb833de94a0fc5c34f69fce24c",
        "trusted": true,
        "_kg_hide-input": true
      },
      "cell_type": "code",
      "source": "#columns*rows\nkernels.size",
      "execution_count": null,
      "outputs": []
    },
    {
      "metadata": {
        "_uuid": "277e1998627d6a3ddeff4e913a6b8c3dc81dec96"
      },
      "cell_type": "markdown",
      "source": "\nWe can get a quick idea of how many instances (rows) and how many attributes (columns) the data contains with the shape property."
    },
    {
      "metadata": {
        "_uuid": "3458838205be4c7fbff88e95ef69934e13e2199b"
      },
      "cell_type": "markdown",
      "source": "you see number of unique item for Species with command below:"
    },
    {
      "metadata": {
        "_uuid": "4b90d165a007106ae99809ad28edd75bd8153dd8",
        "trusted": true,
        "_kg_hide-input": true
      },
      "cell_type": "code",
      "source": "kernels['Medal'].unique()",
      "execution_count": null,
      "outputs": []
    },
    {
      "metadata": {
        "_uuid": "8accfbddf2228274ad412c3ad3be72b4107d6f6c",
        "trusted": true,
        "_kg_hide-input": true
      },
      "cell_type": "code",
      "source": "kernels[\"Medal\"].value_counts()\n",
      "execution_count": null,
      "outputs": []
    },
    {
      "metadata": {
        "trusted": true,
        "_uuid": "eb1a194f9b7598401c44d2b762ecd75f1e2c3955"
      },
      "cell_type": "code",
      "source": "train[\"question_text\"].head(5)",
      "execution_count": null,
      "outputs": []
    },
    {
      "metadata": {
        "_uuid": "ae08b544a8d4202c7d0a47ec83d685e81c91a66d"
      },
      "cell_type": "markdown",
      "source": "to check the first 5 rows of the data set, we can use head(5)."
    },
    {
      "metadata": {
        "_uuid": "5899889553c3416b27e93efceddb106eb71f5156",
        "trusted": true,
        "_kg_hide-input": true
      },
      "cell_type": "code",
      "source": "kernels.head(5) ",
      "execution_count": null,
      "outputs": []
    },
    {
      "metadata": {
        "_uuid": "1150b6ac3d82562aefd5c64f9f01accee5eace4d"
      },
      "cell_type": "markdown",
      "source": "to check out last 5 row of the data set, we use tail() function"
    },
    {
      "metadata": {
        "_uuid": "79339442ff1f53ae1054d794337b9541295d3305",
        "trusted": true,
        "_kg_hide-input": true
      },
      "cell_type": "code",
      "source": "users.tail() ",
      "execution_count": null,
      "outputs": []
    },
    {
      "metadata": {
        "_uuid": "2c288c3dc8656a872a8529368812546e434d3a22"
      },
      "cell_type": "markdown",
      "source": "to pop up 5 random rows from the data set, we can use **sample(5)**  function"
    },
    {
      "metadata": {
        "_uuid": "09eb18d1fcf4a2b73ba2f5ddce99dfa521681140",
        "trusted": true,
        "_kg_hide-input": true
      },
      "cell_type": "code",
      "source": "kernels.sample(5) ",
      "execution_count": null,
      "outputs": []
    },
    {
      "metadata": {
        "_uuid": "c8a1cc36348c68fb98d6cb28aa9919fc5f2892f3"
      },
      "cell_type": "markdown",
      "source": "to give a statistical summary about the dataset, we can use **describe()"
    },
    {
      "metadata": {
        "_uuid": "3f7211e96627b9a81c5b620a9ba61446f7719ea3",
        "trusted": true,
        "_kg_hide-input": true
      },
      "cell_type": "code",
      "source": "kernels.describe() ",
      "execution_count": null,
      "outputs": []
    },
    {
      "metadata": {
        "_uuid": "2ecc1896c6cd6c342cddb2e1ef0e774e66c8dc5d"
      },
      "cell_type": "markdown",
      "source": "<a id=\"9\"></a> <br>\n## 3-2 Data Cleaning\nWhen dealing with real-world data, dirty data is the norm rather than the exception. We continuously need to predict correct values, impute missing ones, and find links between various data artefacts such as schemas and records. We need to stop treating data cleaning as a piecemeal exercise (resolving different types of errors in isolation), and instead leverage all signals and resources (such as constraints, available statistics, and dictionaries) to accurately predict corrective actions.\n\n<img src='http://www.datacleansing.net.au/Images/Site/DG_Data_Cleansing_Cycle_300px.png' width=300 height=300>\n\nThe primary goal of data cleaning is to detect and remove errors and **anomalies** to increase the value of data in analytics and decision making. While it has been the focus of many researchers for several years, individual problems have been addressed separately. These include missing value imputation, outliers detection, transformations, integrity constraints violations detection and repair, consistent query answering, deduplication, and many other related problems such as profiling and constraints mining.[4]\n###### [Go to top](#top)"
    },
    {
      "metadata": {
        "_uuid": "031d16ca235837e889734635ecff193be64b27a4"
      },
      "cell_type": "markdown",
      "source": "How many NA elements in every column!!\nGood news, it is Zero!\nto check out how many null info are on the dataset, we can use **isnull().sum()**"
    },
    {
      "metadata": {
        "_uuid": "a6315bf510cecb907b2d23aad25faf6ccad32ac4"
      },
      "cell_type": "markdown",
      "source": ""
    },
    {
      "metadata": {
        "_uuid": "675f72fb58d83c527f71819e71ed8e17f81126f5",
        "trusted": true,
        "_kg_hide-input": true
      },
      "cell_type": "code",
      "source": "#How many NA elements in every column\nusers.isnull().sum()",
      "execution_count": null,
      "outputs": []
    },
    {
      "metadata": {
        "_uuid": "675f72fb58d83c527f71819e71ed8e17f81126f5",
        "trusted": true,
        "_kg_hide-input": true
      },
      "cell_type": "code",
      "source": "kernels.isnull().sum()",
      "execution_count": null,
      "outputs": []
    },
    {
      "metadata": {
        "_uuid": "446e6162e16325213047ff31454813455668b574",
        "trusted": true,
        "_kg_hide-input": true
      },
      "cell_type": "code",
      "source": "kernels.groupby('Medal').count()",
      "execution_count": null,
      "outputs": []
    },
    {
      "metadata": {
        "_uuid": "c2f1eaf0b6dfdc7cc4dace04614e99ed56425d00"
      },
      "cell_type": "markdown",
      "source": "to print dataset **columns**, we can use columns atribute"
    },
    {
      "metadata": {
        "_uuid": "909d61b33ec06249d0842e6115597bbacf21163f",
        "trusted": true,
        "_kg_hide-input": true
      },
      "cell_type": "code",
      "source": "kernels.columns",
      "execution_count": null,
      "outputs": []
    },
    {
      "metadata": {
        "trusted": true,
        "_uuid": "62b52ea61cfa597007bd31652c7f03778233227c",
        "_kg_hide-input": true
      },
      "cell_type": "code",
      "source": "users.columns",
      "execution_count": null,
      "outputs": []
    },
    {
      "metadata": {
        "trusted": true,
        "_uuid": "40f98b7a01af83ef9be8cd81c72bf281e07493ae"
      },
      "cell_type": "code",
      "source": "train.columns",
      "execution_count": null,
      "outputs": []
    },
    {
      "metadata": {
        "_uuid": "22bc5d81c18275ee1fb082c0adbb7a65bdbec4cc"
      },
      "cell_type": "markdown",
      "source": "**<< Note 2 >>**\nin pandas's data frame you can perform some query such as \"where\""
    },
    {
      "metadata": {
        "_uuid": "ff69b963b60e8ff77acae02850885c7e90358129"
      },
      "cell_type": "markdown",
      "source": " <a id=\"10\"></a> <br>\n## 3-2-1 Find yourself in Users datset"
    },
    {
      "metadata": {
        "trusted": true,
        "_uuid": "1e36488451f22350bc2c655bfdd2b50803540b87",
        "_kg_hide-input": true
      },
      "cell_type": "code",
      "source": "users[users['Id']==userid]",
      "execution_count": null,
      "outputs": []
    },
    {
      "metadata": {
        "_uuid": "33fc33a18489b438a884819d99dc00a02b113be8"
      },
      "cell_type": "markdown",
      "source": " <a id=\"11\"></a> <br>\n## 3-2-2 Find your kernels in Kernels dataset"
    },
    {
      "metadata": {
        "trusted": true,
        "_uuid": "aa877c667451c76a052808964bbf8eb5991b39e0",
        "_kg_hide-input": true
      },
      "cell_type": "code",
      "source": "yourkernels=kernels[kernels['AuthorUserId']==userid]\nyourkernels",
      "execution_count": null,
      "outputs": []
    },
    {
      "metadata": {
        "_uuid": "5fb860dc8bb6bc8feba55df8936f05a3f139115f"
      },
      "cell_type": "markdown",
      "source": "<a id=\"12\"></a> <br>\n## 3-4 Data Preprocessing\n**Data preprocessing** refers to the transformations applied to our data before feeding it to the algorithm.\n \nData Preprocessing is a technique that is used to convert the raw data into a clean data set. In other words, whenever the data is gathered from different sources it is collected in raw format which is not feasible for the analysis.\nthere are plenty of steps for data preprocessing and we just listed some of them in general(Not just for Quora) :\n* removing Target column (id)\n* Sampling (without replacement)\n* Making part of iris unbalanced and balancing (with undersampling and SMOTE)\n* Introducing missing values and treating them (replacing by average values)\n* Noise filtering\n* Data discretization\n* Normalization and standardization\n* PCA analysis\n* Feature selection (filter, embedded, wrapper)\n###### [Go to top](#top)"
    },
    {
      "metadata": {
        "trusted": true,
        "_uuid": "0d7bdcfe284e49847a3488a5c8ecbeda71097583"
      },
      "cell_type": "code",
      "source": "",
      "execution_count": null,
      "outputs": []
    },
    {
      "metadata": {
        "trusted": true,
        "_uuid": "812834e990b10afb01e949e09b86af5f0a8e9357"
      },
      "cell_type": "code",
      "source": "",
      "execution_count": null,
      "outputs": []
    },
    {
      "metadata": {
        "trusted": true,
        "_uuid": "54f76a2bb5a2b75227842751936a178553328b34"
      },
      "cell_type": "code",
      "source": "",
      "execution_count": null,
      "outputs": []
    },
    {
      "metadata": {
        "trusted": true,
        "_uuid": "5f618edd119f64bdcaca196a1699f19fb9bdbe1d"
      },
      "cell_type": "code",
      "source": "",
      "execution_count": null,
      "outputs": []
    },
    {
      "metadata": {
        "trusted": true,
        "_uuid": "4c478414d064c2333112f07448343477c32c1509"
      },
      "cell_type": "code",
      "source": "",
      "execution_count": null,
      "outputs": []
    },
    {
      "metadata": {
        "trusted": true,
        "_uuid": "0be2fbf75d975fc8361fdb70451c64e3fcf16320"
      },
      "cell_type": "code",
      "source": "",
      "execution_count": null,
      "outputs": []
    },
    {
      "metadata": {
        "_uuid": "aa882e5bcdc7d5f440489eff75d1d225269655a4"
      },
      "cell_type": "markdown",
      "source": "**<< Note >>**\n>**Preprocessing and generation pipelines depend on a model type**"
    },
    {
      "metadata": {
        "_uuid": "055772bd170aa8018aabd85106b76675802c33b3"
      },
      "cell_type": "markdown",
      "source": "<a id=\"13\"></a> <br>\n## 3-4 Visualization\n**Data visualization**  is the presentation of data in a pictorial or graphical format. It enables decision makers to see analytics presented visually, so they can grasp difficult concepts or identify new patterns.\n\nWith interactive visualization, you can take the concept a step further by using technology to drill down into charts and graphs for more detail, interactively changing what data you see and how it’s processed.[SAS]\n\n In this section I show you  **11 plots** with **matplotlib** and **seaborn** that is listed in the blew picture:\n <img src=\"http://s8.picofile.com/file/8338475500/visualization.jpg\" />\n"
    },
    {
      "metadata": {
        "_uuid": "b0014a7a52e714996bc443981c853095926d20e5"
      },
      "cell_type": "markdown",
      "source": "<a id=\"14\"></a> <br>\n## 3-4-1  Scatter plot\n\nScatter plot Purpose To identify the type of relationship (if any) between two quantitative variables\n\n\n"
    },
    {
      "metadata": {
        "trusted": true,
        "_uuid": "8f35fd1761bec3516ad6940f88e916dfb67dfda0"
      },
      "cell_type": "code",
      "source": "yourkernels.columns",
      "execution_count": null,
      "outputs": []
    },
    {
      "metadata": {
        "_uuid": "af099546eed64ebc796403d4139cb4c977c27b03",
        "trusted": true,
        "_kg_hide-input": true
      },
      "cell_type": "code",
      "source": "# Modify the graph above by assigning each species an individual color.\nx=yourkernels[\"TotalVotes\"]\ny=yourkernels[\"TotalViews\"]\nplt.scatter(x, y)\nplt.legend()\nplt.show()\n",
      "execution_count": null,
      "outputs": []
    },
    {
      "metadata": {
        "trusted": true,
        "_uuid": "1b31a7c185ee654c31ff5b062d111bcefa205966",
        "_kg_hide-input": true
      },
      "cell_type": "code",
      "source": "f,ax=plt.subplots(1,2,figsize=(18,8))\nyourkernels['Medal'].value_counts().plot.bar(color=['#CD7F32','#FFDF00','#D3D3D3'],ax=ax[0])\nax[0].set_title('Number Of Medal')\nax[0].set_ylabel('Count')\nplt.show()",
      "execution_count": null,
      "outputs": []
    },
    {
      "metadata": {
        "_uuid": "d1c7b62b5f8cba427bca13049256365141655372"
      },
      "cell_type": "markdown",
      "source": "<a id=\"15\"></a> <br>\n### 3-4-2 Box\nIn descriptive statistics, a **box plot** or boxplot is a method for graphically depicting groups of numerical data through their quartiles. Box plots may also have lines extending vertically from the boxes (whiskers) indicating variability outside the upper and lower quartiles, hence the terms box-and-whisker plot and box-and-whisker diagram.[wikipedia]"
    },
    {
      "metadata": {
        "_uuid": "0655e20f31a582f861d391308a088778cd7eaae9",
        "trusted": true,
        "_kg_hide-input": true
      },
      "cell_type": "code",
      "source": "yourkernels[\"TotalVotes\"].plot(kind='box')\nplt.figure()\n#This gives us a much clearer idea of the distribution of the input attributes:\n\n",
      "execution_count": null,
      "outputs": []
    },
    {
      "metadata": {
        "trusted": true,
        "_uuid": "81b8d70c5d8b2d024337d989ec1e204b612f676d"
      },
      "cell_type": "code",
      "source": "yourkernels[\"TotalComments\"].plot(kind='box')\nplt.figure()\n",
      "execution_count": null,
      "outputs": []
    },
    {
      "metadata": {
        "_uuid": "f7f6426fd44bcd77d35a5fdbc8c4fc4f18d991ad",
        "trusted": true,
        "_kg_hide-input": true
      },
      "cell_type": "code",
      "source": "# To plot the species data using a box plot:\n\nsns.boxplot(x=\"TotalComments\", y=\"TotalVotes\", data=yourkernels )\nplt.show()",
      "execution_count": null,
      "outputs": []
    },
    {
      "metadata": {
        "_uuid": "7b193e4aa7e6fb337d3f65c334849094addd097a",
        "trusted": true,
        "_kg_hide-input": true
      },
      "cell_type": "code",
      "source": "# Use Seaborn's striplot to add data points on top of the box plot \n# Insert jitter=True so that the data points remain scattered and not piled into a verticle line.\n# Assign ax to each axis, so that each plot is ontop of the previous axis. \n\nax= sns.boxplot(x=\"TotalViews\", y=\"TotalVotes\", data=yourkernels)\nax= sns.stripplot(x=\"TotalViews\", y=\"TotalVotes\", data=yourkernels, jitter=True, edgecolor=\"gray\")\nplt.show()",
      "execution_count": null,
      "outputs": []
    },
    {
      "metadata": {
        "_uuid": "56adbafa89c117118621c72b3b7cb19edc21298e",
        "trusted": true,
        "_kg_hide-input": true
      },
      "cell_type": "code",
      "source": "# Tweek the plot above to change fill and border color color using ax.artists.\n# Assing ax.artists a variable name, and insert the box number into the corresponding brackets\n\nax= sns.boxplot(x=\"TotalViews\", y=\"TotalVotes\", data=yourkernels)\nax= sns.stripplot(x=\"TotalViews\", y=\"TotalVotes\", data=yourkernels, jitter=True, edgecolor=\"gray\")\n\nboxtwo = ax.artists[2]\nboxtwo.set_facecolor('red')\nboxtwo.set_edgecolor('black')\nboxthree=ax.artists[1]\nboxthree.set_facecolor('yellow')\nboxthree.set_edgecolor('black')\n\nplt.show()",
      "execution_count": null,
      "outputs": []
    },
    {
      "metadata": {
        "trusted": true,
        "_uuid": "40c9ab245695d47cb33eda65a0d637de390f9e59",
        "_kg_hide-input": true
      },
      "cell_type": "code",
      "source": "sns.factorplot('TotalViews','TotalVotes',hue='Medal',data=yourkernels)\nplt.show()",
      "execution_count": null,
      "outputs": []
    },
    {
      "metadata": {
        "trusted": true,
        "_uuid": "c73a82a05855195ac32dedb3056e84355e273b0f"
      },
      "cell_type": "code",
      "source": "sns.factorplot('TotalComments','TotalVotes',hue='Medal',data=yourkernels)\nplt.show()",
      "execution_count": null,
      "outputs": []
    },
    {
      "metadata": {
        "_uuid": "743a92c3c2fff1a1f99845518247f7971ad18b7c"
      },
      "cell_type": "markdown",
      "source": "<a id=\"16\"></a> <br>\n### 3-4-3 Histogram\nWe can also create a **histogram** of each input variable to get an idea of the distribution.\n\n"
    },
    {
      "metadata": {
        "trusted": true,
        "_uuid": "fcea7d2a5fb011f4ea70e19d7a50f0aba5af731b"
      },
      "cell_type": "code",
      "source": "train[\"num_words\"] = train[\"question_text\"].apply(lambda x: len(str(x).split()))\ntest[\"num_words\"] = test[\"question_text\"].apply(lambda x: len(str(x).split()))\nprint('maximum of num_words in train',train[\"num_words\"].max())\nprint('min of num_words in train',train[\"num_words\"].min())\nprint(\"maximum of  num_words in test\",test[\"num_words\"].max())\nprint('min of num_words in train',test[\"num_words\"].min())\n",
      "execution_count": null,
      "outputs": []
    },
    {
      "metadata": {
        "trusted": true,
        "_uuid": "66f3be03ed655d3ed76026fd977835106ac47a54"
      },
      "cell_type": "code",
      "source": "f,ax=plt.subplots(1,2,figsize=(20,10))\ntrain[train['target']==0].num_words.plot.hist(ax=ax[0],bins=20,edgecolor='black',color='red')\nax[0].set_title('target= 0')\nx1=list(range(0,85,5))\nax[0].set_xticks(x1)\ntrain[train['target']==1].num_words.plot.hist(ax=ax[1],color='green',bins=20,edgecolor='black')\nax[1].set_title('target= 1')\nx2=list(range(0,85,5))\nax[1].set_xticks(x2)\nplt.show()",
      "execution_count": null,
      "outputs": []
    },
    {
      "metadata": {
        "_uuid": "5da0520ed3e738ee8814b2d91843ed4acec2b6e6",
        "trusted": true,
        "_kg_hide-input": true
      },
      "cell_type": "code",
      "source": "# histograms\nyourkernels.hist(figsize=(15,20))\nplt.figure()",
      "execution_count": null,
      "outputs": []
    },
    {
      "metadata": {
        "trusted": true,
        "_uuid": "90b6df3255561e3944ea89c5f1ca8c815f862a7f"
      },
      "cell_type": "code",
      "source": "train[\"num_words\"].hist();",
      "execution_count": null,
      "outputs": []
    },
    {
      "metadata": {
        "_uuid": "b4e3de19781686010c6038f0e3076eb678398169"
      },
      "cell_type": "markdown",
      "source": "It looks like perhaps two of the input variables have a Gaussian distribution. This is useful to note as we can use algorithms that can exploit this assumption.\n\n"
    },
    {
      "metadata": {
        "_uuid": "9f80a6e971cbf0af72d659b51af552ea1dddc9a8",
        "trusted": true,
        "_kg_hide-input": true
      },
      "cell_type": "code",
      "source": "yourkernels[\"TotalViews\"].hist();",
      "execution_count": null,
      "outputs": []
    },
    {
      "metadata": {
        "trusted": true,
        "_uuid": "1173ef1b6ca75e28f94a891880294d1765b022ea"
      },
      "cell_type": "code",
      "source": "yourkernels[\"TotalComments\"].hist();",
      "execution_count": null,
      "outputs": []
    },
    {
      "metadata": {
        "trusted": true,
        "_uuid": "5d8ef0781d88c46a8becf6d7f5b1f4ad2c05db7e",
        "_kg_hide-input": true
      },
      "cell_type": "code",
      "source": "sns.factorplot('TotalViews','TotalVotes',data=yourkernels)\nplt.show()",
      "execution_count": null,
      "outputs": []
    },
    {
      "metadata": {
        "trusted": true,
        "_uuid": "15e2743389cb58055ee5bb9dd9b829fb85850af2"
      },
      "cell_type": "code",
      "source": "sns.factorplot('TotalComments','TotalVotes',data=yourkernels)\nplt.show()",
      "execution_count": null,
      "outputs": []
    },
    {
      "metadata": {
        "_uuid": "e0f696ec021ec99c1058a62e22c8b73082fe6fa7"
      },
      "cell_type": "markdown",
      "source": "<a id=\"17\"></a> <br>\n### 3-4-5 violinplots"
    },
    {
      "metadata": {
        "_uuid": "e352d2f8340609adf4bf6718b1d2ecee0fa730b5",
        "trusted": true,
        "_kg_hide-input": true
      },
      "cell_type": "code",
      "source": "# violinplots on petal-length for each species\nsns.violinplot(data=yourkernels,x=\"TotalViews\", y=\"TotalVotes\")",
      "execution_count": null,
      "outputs": []
    },
    {
      "metadata": {
        "trusted": true,
        "_uuid": "82d42d69a63f9dacf41dad5bfb1b7908cefc2633"
      },
      "cell_type": "code",
      "source": "# violinplots on petal-length for each species\nsns.violinplot(data=yourkernels,x=\"TotalComments\", y=\"TotalVotes\")",
      "execution_count": null,
      "outputs": []
    },
    {
      "metadata": {
        "trusted": true,
        "_uuid": "363b3e9509d5e3ba157c0b5f319d2585c58ee28f"
      },
      "cell_type": "code",
      "source": "sns.violinplot(data=yourkernels,x=\"Medal\", y=\"TotalVotes\")",
      "execution_count": null,
      "outputs": []
    },
    {
      "metadata": {
        "trusted": true,
        "_uuid": "c67af4ad8d452f8e9f929e8a3284de675e3fd0d9"
      },
      "cell_type": "code",
      "source": "sns.violinplot(data=yourkernels,x=\"Medal\", y=\"TotalComments\")",
      "execution_count": null,
      "outputs": []
    },
    {
      "metadata": {
        "_uuid": "a6315bf510cecb907b2d23aad25faf6ccad32ac4"
      },
      "cell_type": "markdown",
      "source": "how many NA elements in every column\n"
    },
    {
      "metadata": {
        "_uuid": "2544d3c2dd34a360d295019d8cb597c7ef8f66bc"
      },
      "cell_type": "markdown",
      "source": "<a id=\"18\"></a> <br>\n###  3-6-7 kdeplot"
    },
    {
      "metadata": {
        "_uuid": "1d07222b89303b386e9e824d52cc73c045667f25",
        "trusted": true,
        "_kg_hide-input": true
      },
      "cell_type": "code",
      "source": "# seaborn's kdeplot, plots univariate or bivariate density estimates.\n#Size can be changed by tweeking the value used\nsns.FacetGrid(yourkernels, hue=\"Medal\", size=5).map(sns.kdeplot, \"TotalComments\").add_legend()\nplt.show()",
      "execution_count": null,
      "outputs": []
    },
    {
      "metadata": {
        "trusted": true,
        "_uuid": "3662003d5cb728d91c71e339cc7d6feba17b495f"
      },
      "cell_type": "code",
      "source": "sns.FacetGrid(yourkernels, hue=\"Medal\", size=5).map(sns.kdeplot, \"TotalVotes\").add_legend()\nplt.show()",
      "execution_count": null,
      "outputs": []
    },
    {
      "metadata": {
        "trusted": true,
        "_uuid": "06e1259b209e753c2f05643706d6157145bb3b98",
        "_kg_hide-input": true
      },
      "cell_type": "code",
      "source": "f,ax=plt.subplots(1,3,figsize=(20,8))\nsns.distplot(yourkernels[yourkernels['Medal']==1].TotalVotes,ax=ax[0])\nax[0].set_title('TotalVotes in Medal 1')\nsns.distplot(yourkernels[yourkernels['Medal']==2].TotalVotes,ax=ax[1])\nax[1].set_title('TotalVotes in Medal 2')\nsns.distplot(yourkernels[yourkernels['Medal']==3].TotalVotes,ax=ax[2])\nax[2].set_title('TotalVotes in Medal 3')\nplt.show()",
      "execution_count": null,
      "outputs": []
    },
    {
      "metadata": {
        "_uuid": "560d8e8f17bacefaf8c3855a9648f26b82fdee9b"
      },
      "cell_type": "markdown",
      "source": "<a id=\"19\"></a> <br>\n### 3-4-8 jointplot"
    },
    {
      "metadata": {
        "_uuid": "4adb4da16ea61e0f1a12bc9925dfbbaaa81e0360",
        "trusted": true,
        "_kg_hide-input": true
      },
      "cell_type": "code",
      "source": "# Use seaborn's jointplot to make a hexagonal bin plot\n#Set desired size and ratio and choose a color.\nsns.jointplot(x=\"TotalVotes\", y=\"TotalViews\", data=yourkernels, size=10,ratio=10, kind='hex',color='green')\nplt.show()",
      "execution_count": null,
      "outputs": []
    },
    {
      "metadata": {
        "_uuid": "263eaa9d2bfad0f8c68b6e8e874bdc11a6e802ac",
        "trusted": true,
        "_kg_hide-input": true
      },
      "cell_type": "code",
      "source": "# we will use seaborn jointplot shows bivariate scatterplots and univariate histograms with Kernel density \n# estimation in the same figure\nsns.jointplot(x=\"TotalVotes\", y=\"TotalViews\", data=yourkernels, size=6, kind='kde', color='#800000', space=0)",
      "execution_count": null,
      "outputs": []
    },
    {
      "metadata": {
        "_uuid": "3768e31e990bfe4c2ff7b45087fbba85e0560d00"
      },
      "cell_type": "markdown",
      "source": "<a id=\"20\"></a> <br>\n###  3-4-9 andrews_curves"
    },
    {
      "metadata": {
        "_uuid": "8e73333289d17dd648b7b2112d7fe3fe7ea444d0"
      },
      "cell_type": "markdown",
      "source": "<a id=\"21\"></a> <br>\n### 3-4-10 Heatmap"
    },
    {
      "metadata": {
        "_uuid": "3100955ca9dc61ac7d435e9c064d10d06f26afa7",
        "trusted": true,
        "_kg_hide-input": true
      },
      "cell_type": "code",
      "source": "plt.figure(figsize=(10,7)) \nsns.heatmap(yourkernels.corr(),annot=True,cmap='cubehelix_r') #draws  heatmap with input as the correlation matrix calculted by(iris.corr())\nplt.show()",
      "execution_count": null,
      "outputs": []
    },
    {
      "metadata": {
        "_uuid": "6ac924245735f2f63dc95f4a60039cbc4b5f9f0a"
      },
      "cell_type": "markdown",
      "source": "<a id=\"22\"></a> <br>\n## 3-4-11 WordCloud\nMany times you might have seen a cloud filled with lots of words in different sizes, which represent the frequency or the importance of each word. This is called Tag Cloud or WordCloud."
    },
    {
      "metadata": {
        "trusted": true,
        "_uuid": "d405a5c758a63d38f92124a790e3083715224f39"
      },
      "cell_type": "code",
      "source": "from wordcloud import WordCloud as wc\nfrom nltk.corpus import stopwords\neng_stopwords = set(stopwords.words(\"english\"))\nmessages.head(1)",
      "execution_count": null,
      "outputs": []
    },
    {
      "metadata": {
        "trusted": true,
        "_uuid": "2d794c89a475349868f82690878ed934ec05fd81"
      },
      "cell_type": "code",
      "source": "def generate_wordcloud(text): \n    wordcloud = wc(relative_scaling = 1.0,stopwords = eng_stopwords).generate(text)\n    fig,ax = plt.subplots(1,1,figsize=(10,10))\n    ax.imshow(wordcloud, interpolation='bilinear')\n    ax.axis(\"off\")\n    ax.margins(x=0, y=0)\n    plt.show()",
      "execution_count": null,
      "outputs": []
    },
    {
      "metadata": {
        "trusted": true,
        "_uuid": "037cd661617de8b3470ade47ac212a31b12e6e1e"
      },
      "cell_type": "code",
      "source": "text=','.join(str(v) for v in train['question_text'])\n#text =\" \".join(messages['Message'])\ngenerate_wordcloud(text)",
      "execution_count": null,
      "outputs": []
    },
    {
      "metadata": {
        "trusted": true,
        "_uuid": "83d564bc724f73bfea4b645e3736b46243d0edb0"
      },
      "cell_type": "code",
      "source": "text=','.join(str(v) for v in messages['Message'])\n#text =\" \".join(messages['Message'])\ngenerate_wordcloud(text)",
      "execution_count": null,
      "outputs": []
    },
    {
      "metadata": {
        "_uuid": "3fff0732ca216c092cc41f33d45dc67e54f2c8f0"
      },
      "cell_type": "markdown",
      "source": "## 3-4-12 CountPlot"
    },
    {
      "metadata": {
        "trusted": true,
        "_uuid": "016fab6c1ce45edb1baf69cf052517dd4e07b002"
      },
      "cell_type": "code",
      "source": "ax=sns.countplot(x='target',hue=\"target\", data=train  ,linewidth=5,edgecolor=sns.color_palette(\"dark\", 3))\nplt.title('Is data set imbalance?');",
      "execution_count": null,
      "outputs": []
    },
    {
      "metadata": {
        "trusted": true,
        "_uuid": "9231021ad2da6e478f22dc11f4409de66f36049c"
      },
      "cell_type": "code",
      "source": "ax = sns.countplot(y=\"target\", hue=\"target\", data=train)\nplt.title('Is data set imbalance?');",
      "execution_count": null,
      "outputs": []
    },
    {
      "metadata": {
        "_uuid": "f5b7ad3f5d499ef756bd6666995aebcd33ba9fd5"
      },
      "cell_type": "markdown",
      "source": " # 3-4-13 Pie Plot"
    },
    {
      "metadata": {
        "trusted": true,
        "_uuid": "1bedf9e97cd52331c759fd05d19da9f441c1866e"
      },
      "cell_type": "code",
      "source": "ax=train['target'].value_counts().plot.pie(explode=[0,0.1],autopct='%1.1f%%' ,shadow=True)\nax.set_title('target')\nax.set_ylabel('')\nplt.show()",
      "execution_count": null,
      "outputs": []
    },
    {
      "metadata": {
        "_uuid": "6caa0f9d20a055caebf9a2269c2081b052858806"
      },
      "cell_type": "markdown",
      "source": "<a id=\"23\"></a> <br>\n# 5- conclusion\nExploratory data analysis (**EDA**) is an approach to analyzing data sets to summarize their main **characteristics**, often with visual methods. A statistical model can be used or not, but primarily EDA is for seeing what the data can tell us beyond the formal modeling or hypothesis testing task.\nThis kernel it is not completed yet! Following up!\n###### [Go to top](#top)"
    },
    {
      "metadata": {
        "_uuid": "cf3679a51c72dbe2d2549b5fe97e4ac5f1fa0fa0"
      },
      "cell_type": "markdown",
      "source": "you can follow me on:\n\n> ###### [ GitHub](https://github.com/mjbahmani/10-steps-to-become-a-data-scientist)\n\n--------------------------------------\n\n **I hope you find this kernel helpful and some <font color=\"red\"><b>UPVOTES</b></font> would be very much appreciated** "
    },
    {
      "metadata": {
        "_uuid": "5590d9817e38722f88c9924517a591d43dfaf4ba"
      },
      "cell_type": "markdown",
      "source": "<a id=\"24\"></a> <br>\n# 6- References\n1. [Coursera](https://www.coursera.org/specializations/data-science-python)\n1. [GitHub](https://github.com/mjbahmani)\n<br>\n<br>\n[Go to top](#top)"
    },
    {
      "metadata": {
        "_uuid": "72e1e18935b372b6aac2fae910e5bd12de1d420f"
      },
      "cell_type": "markdown",
      "source": "#### This kernel is not completed yet and will be updated soon  !!!"
    }
  ],
  "metadata": {
    "kernelspec": {
      "display_name": "Python 3",
      "language": "python",
      "name": "python3"
    },
    "language_info": {
      "name": "python",
      "version": "3.6.6",
      "mimetype": "text/x-python",
      "codemirror_mode": {
        "name": "ipython",
        "version": 3
      },
      "pygments_lexer": "ipython3",
      "nbconvert_exporter": "python",
      "file_extension": ".py"
    }
  },
  "nbformat": 4,
  "nbformat_minor": 1
}